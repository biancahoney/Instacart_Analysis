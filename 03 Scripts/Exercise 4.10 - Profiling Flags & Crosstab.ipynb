{
 "cells": [
  {
   "cell_type": "markdown",
   "id": "5b2eac00",
   "metadata": {},
   "source": [
    "## CONTENTS \n",
    "\n",
    "1. Import Libraries  \n",
    "2. Upload Data Sets \n",
    "3. Data Checks \\ \n",
    "  a. LARGE DATAFRAME \\\n",
    "  b. DEPARTMENTS DATATFRAME \n",
    "4. ADDRESS PII \n",
    "5. CREATE REGIONAL FLAGS\n",
    "6. EXPLORE SPENDING HABITS IN REGIONS\n",
    "7. EXPLORE CUSTOMER DATA \n",
    "8. CREATE CUSTOMER PROFILES\n",
    "9. EXPORT THE DATAFRAMES "
   ]
  },
  {
   "cell_type": "markdown",
   "id": "7a718b26",
   "metadata": {},
   "source": [
    "### 1. IMPORT LIBRARIES"
   ]
  },
  {
   "cell_type": "code",
   "execution_count": 2,
   "id": "93cdef74",
   "metadata": {},
   "outputs": [],
   "source": [
    "import pandas as pd\n",
    "import numpy as np\n",
    "import os\n",
    "import matplotlib.pyplot as plt\n",
    "import seaborn as sns\n",
    "import scipy"
   ]
  },
  {
   "cell_type": "markdown",
   "id": "3cc83953",
   "metadata": {},
   "source": [
    "### 2. UPLOAD DATA SETS"
   ]
  },
  {
   "cell_type": "code",
   "execution_count": 3,
   "id": "6d10958c",
   "metadata": {},
   "outputs": [],
   "source": [
    "path = r'/Users/biancaskyehoney/Documents/Instacart Basket Analysis '"
   ]
  },
  {
   "cell_type": "code",
   "execution_count": 4,
   "id": "0b06ddd4",
   "metadata": {},
   "outputs": [],
   "source": [
    "# Large merged df file path specified \n",
    "pickle_file_path = os.path.join(path, '02 Data', 'Prepared Data', 'ords_prods_cust_merged.pkl')\n",
    "\n",
    "# Read the Pickle file (large df) using pd.read_pickle()\n",
    "df = pd.read_pickle(pickle_file_path)"
   ]
  },
  {
   "cell_type": "code",
   "execution_count": 5,
   "id": "31681e82",
   "metadata": {},
   "outputs": [],
   "source": [
    "# Departments file path \n",
    "\n",
    "df_departments = pd.read_csv(os.path.join(path, '02 Data', 'prepared data', 'departments_wrangled.csv'), index_col=0)"
   ]
  },
  {
   "cell_type": "markdown",
   "id": "80c1c31b",
   "metadata": {},
   "source": [
    "#### Data checks - Large df "
   ]
  },
  {
   "cell_type": "code",
   "execution_count": 6,
   "id": "63252818",
   "metadata": {},
   "outputs": [
    {
     "data": {
      "text/plain": [
       "(32404859, 37)"
      ]
     },
     "execution_count": 6,
     "metadata": {},
     "output_type": "execute_result"
    }
   ],
   "source": [
    "df.shape"
   ]
  },
  {
   "cell_type": "code",
   "execution_count": 7,
   "id": "078fccc3",
   "metadata": {},
   "outputs": [
    {
     "name": "stdout",
     "output_type": "stream",
     "text": [
      "<class 'pandas.core.frame.DataFrame'>\n",
      "Int64Index: 32404859 entries, 0 to 32404858\n",
      "Data columns (total 37 columns):\n",
      " #   Column                  Dtype   \n",
      "---  ------                  -----   \n",
      " 0   order_id                int64   \n",
      " 1   user_id                 int64   \n",
      " 2   order_number            int64   \n",
      " 3   orders_day_of_week      int64   \n",
      " 4   order_hour_of_day       int64   \n",
      " 5   days_since_prior_order  float64 \n",
      " 6   first_order             int64   \n",
      " 7   product_id              int64   \n",
      " 8   add_to_cart_order       int64   \n",
      " 9   reordered               int64   \n",
      " 10  product_name            object  \n",
      " 11  aisle_id                int64   \n",
      " 12  department_id           int64   \n",
      " 13  prices                  float64 \n",
      " 14  _merge                  category\n",
      " 15  price_range_loc         object  \n",
      " 16  busiest day             object  \n",
      " 17  day_category            object  \n",
      " 18  slowest_days            bool    \n",
      " 19  busiest_days            object  \n",
      " 20  busiest_period_of_day   object  \n",
      " 21  max_order               int64   \n",
      " 22  loyalty_flag            object  \n",
      " 23  average_price           float64 \n",
      " 24  spending_flag           object  \n",
      " 25  order_frequency         object  \n",
      " 26  median_days             float64 \n",
      " 27  frequency_flag          object  \n",
      " 28  first_name              object  \n",
      " 29  surname                 object  \n",
      " 30  gender                  object  \n",
      " 31  state                   object  \n",
      " 32  age                     int64   \n",
      " 33  date_joined             object  \n",
      " 34  n_dependants            int64   \n",
      " 35  fam_status              object  \n",
      " 36  income                  int64   \n",
      "dtypes: bool(1), category(1), float64(4), int64(15), object(16)\n",
      "memory usage: 8.8+ GB\n"
     ]
    }
   ],
   "source": [
    "df.info()"
   ]
  },
  {
   "cell_type": "code",
   "execution_count": 8,
   "id": "6af64494",
   "metadata": {},
   "outputs": [
    {
     "data": {
      "text/html": [
       "<div>\n",
       "<style scoped>\n",
       "    .dataframe tbody tr th:only-of-type {\n",
       "        vertical-align: middle;\n",
       "    }\n",
       "\n",
       "    .dataframe tbody tr th {\n",
       "        vertical-align: top;\n",
       "    }\n",
       "\n",
       "    .dataframe thead th {\n",
       "        text-align: right;\n",
       "    }\n",
       "</style>\n",
       "<table border=\"1\" class=\"dataframe\">\n",
       "  <thead>\n",
       "    <tr style=\"text-align: right;\">\n",
       "      <th></th>\n",
       "      <th>order_id</th>\n",
       "      <th>user_id</th>\n",
       "      <th>order_number</th>\n",
       "      <th>orders_day_of_week</th>\n",
       "      <th>order_hour_of_day</th>\n",
       "      <th>days_since_prior_order</th>\n",
       "      <th>first_order</th>\n",
       "      <th>product_id</th>\n",
       "      <th>add_to_cart_order</th>\n",
       "      <th>reordered</th>\n",
       "      <th>...</th>\n",
       "      <th>frequency_flag</th>\n",
       "      <th>first_name</th>\n",
       "      <th>surname</th>\n",
       "      <th>gender</th>\n",
       "      <th>state</th>\n",
       "      <th>age</th>\n",
       "      <th>date_joined</th>\n",
       "      <th>n_dependants</th>\n",
       "      <th>fam_status</th>\n",
       "      <th>income</th>\n",
       "    </tr>\n",
       "  </thead>\n",
       "  <tbody>\n",
       "    <tr>\n",
       "      <th>0</th>\n",
       "      <td>2539329</td>\n",
       "      <td>1</td>\n",
       "      <td>1</td>\n",
       "      <td>2</td>\n",
       "      <td>8</td>\n",
       "      <td>NaN</td>\n",
       "      <td>1</td>\n",
       "      <td>196</td>\n",
       "      <td>1</td>\n",
       "      <td>0</td>\n",
       "      <td>...</td>\n",
       "      <td>Non-frequent customer</td>\n",
       "      <td>Linda</td>\n",
       "      <td>Nguyen</td>\n",
       "      <td>Female</td>\n",
       "      <td>Alabama</td>\n",
       "      <td>31</td>\n",
       "      <td>2/17/2019</td>\n",
       "      <td>3</td>\n",
       "      <td>married</td>\n",
       "      <td>40423</td>\n",
       "    </tr>\n",
       "    <tr>\n",
       "      <th>1</th>\n",
       "      <td>2398795</td>\n",
       "      <td>1</td>\n",
       "      <td>2</td>\n",
       "      <td>3</td>\n",
       "      <td>7</td>\n",
       "      <td>15.0</td>\n",
       "      <td>0</td>\n",
       "      <td>196</td>\n",
       "      <td>1</td>\n",
       "      <td>1</td>\n",
       "      <td>...</td>\n",
       "      <td>Non-frequent customer</td>\n",
       "      <td>Linda</td>\n",
       "      <td>Nguyen</td>\n",
       "      <td>Female</td>\n",
       "      <td>Alabama</td>\n",
       "      <td>31</td>\n",
       "      <td>2/17/2019</td>\n",
       "      <td>3</td>\n",
       "      <td>married</td>\n",
       "      <td>40423</td>\n",
       "    </tr>\n",
       "    <tr>\n",
       "      <th>2</th>\n",
       "      <td>473747</td>\n",
       "      <td>1</td>\n",
       "      <td>3</td>\n",
       "      <td>3</td>\n",
       "      <td>12</td>\n",
       "      <td>21.0</td>\n",
       "      <td>0</td>\n",
       "      <td>196</td>\n",
       "      <td>1</td>\n",
       "      <td>1</td>\n",
       "      <td>...</td>\n",
       "      <td>Non-frequent customer</td>\n",
       "      <td>Linda</td>\n",
       "      <td>Nguyen</td>\n",
       "      <td>Female</td>\n",
       "      <td>Alabama</td>\n",
       "      <td>31</td>\n",
       "      <td>2/17/2019</td>\n",
       "      <td>3</td>\n",
       "      <td>married</td>\n",
       "      <td>40423</td>\n",
       "    </tr>\n",
       "    <tr>\n",
       "      <th>3</th>\n",
       "      <td>2254736</td>\n",
       "      <td>1</td>\n",
       "      <td>4</td>\n",
       "      <td>4</td>\n",
       "      <td>7</td>\n",
       "      <td>29.0</td>\n",
       "      <td>0</td>\n",
       "      <td>196</td>\n",
       "      <td>1</td>\n",
       "      <td>1</td>\n",
       "      <td>...</td>\n",
       "      <td>Non-frequent customer</td>\n",
       "      <td>Linda</td>\n",
       "      <td>Nguyen</td>\n",
       "      <td>Female</td>\n",
       "      <td>Alabama</td>\n",
       "      <td>31</td>\n",
       "      <td>2/17/2019</td>\n",
       "      <td>3</td>\n",
       "      <td>married</td>\n",
       "      <td>40423</td>\n",
       "    </tr>\n",
       "    <tr>\n",
       "      <th>4</th>\n",
       "      <td>431534</td>\n",
       "      <td>1</td>\n",
       "      <td>5</td>\n",
       "      <td>4</td>\n",
       "      <td>15</td>\n",
       "      <td>28.0</td>\n",
       "      <td>0</td>\n",
       "      <td>196</td>\n",
       "      <td>1</td>\n",
       "      <td>1</td>\n",
       "      <td>...</td>\n",
       "      <td>Non-frequent customer</td>\n",
       "      <td>Linda</td>\n",
       "      <td>Nguyen</td>\n",
       "      <td>Female</td>\n",
       "      <td>Alabama</td>\n",
       "      <td>31</td>\n",
       "      <td>2/17/2019</td>\n",
       "      <td>3</td>\n",
       "      <td>married</td>\n",
       "      <td>40423</td>\n",
       "    </tr>\n",
       "  </tbody>\n",
       "</table>\n",
       "<p>5 rows × 37 columns</p>\n",
       "</div>"
      ],
      "text/plain": [
       "   order_id  user_id  order_number  orders_day_of_week  order_hour_of_day  \\\n",
       "0   2539329        1             1                   2                  8   \n",
       "1   2398795        1             2                   3                  7   \n",
       "2    473747        1             3                   3                 12   \n",
       "3   2254736        1             4                   4                  7   \n",
       "4    431534        1             5                   4                 15   \n",
       "\n",
       "   days_since_prior_order  first_order  product_id  add_to_cart_order  \\\n",
       "0                     NaN            1         196                  1   \n",
       "1                    15.0            0         196                  1   \n",
       "2                    21.0            0         196                  1   \n",
       "3                    29.0            0         196                  1   \n",
       "4                    28.0            0         196                  1   \n",
       "\n",
       "   reordered  ...         frequency_flag  first_name  surname  gender  \\\n",
       "0          0  ...  Non-frequent customer       Linda   Nguyen  Female   \n",
       "1          1  ...  Non-frequent customer       Linda   Nguyen  Female   \n",
       "2          1  ...  Non-frequent customer       Linda   Nguyen  Female   \n",
       "3          1  ...  Non-frequent customer       Linda   Nguyen  Female   \n",
       "4          1  ...  Non-frequent customer       Linda   Nguyen  Female   \n",
       "\n",
       "     state age date_joined n_dependants  fam_status income  \n",
       "0  Alabama  31   2/17/2019            3     married  40423  \n",
       "1  Alabama  31   2/17/2019            3     married  40423  \n",
       "2  Alabama  31   2/17/2019            3     married  40423  \n",
       "3  Alabama  31   2/17/2019            3     married  40423  \n",
       "4  Alabama  31   2/17/2019            3     married  40423  \n",
       "\n",
       "[5 rows x 37 columns]"
      ]
     },
     "execution_count": 8,
     "metadata": {},
     "output_type": "execute_result"
    }
   ],
   "source": [
    "df.head(5)"
   ]
  },
  {
   "cell_type": "markdown",
   "id": "fecec68e",
   "metadata": {},
   "source": []
  },
  {
   "cell_type": "markdown",
   "id": "5b555c05",
   "metadata": {},
   "source": [
    "### 3. Data Checks"
   ]
  },
  {
   "cell_type": "markdown",
   "id": "46dd9add",
   "metadata": {},
   "source": [
    "#### Data checks _ departments df "
   ]
  },
  {
   "cell_type": "code",
   "execution_count": 9,
   "id": "8159e82b",
   "metadata": {},
   "outputs": [
    {
     "data": {
      "text/plain": [
       "(21, 1)"
      ]
     },
     "execution_count": 9,
     "metadata": {},
     "output_type": "execute_result"
    }
   ],
   "source": [
    "df_departments.shape"
   ]
  },
  {
   "cell_type": "code",
   "execution_count": 10,
   "id": "83760e5c",
   "metadata": {},
   "outputs": [
    {
     "name": "stdout",
     "output_type": "stream",
     "text": [
      "<class 'pandas.core.frame.DataFrame'>\n",
      "Int64Index: 21 entries, 1 to 21\n",
      "Data columns (total 1 columns):\n",
      " #   Column      Non-Null Count  Dtype \n",
      "---  ------      --------------  ----- \n",
      " 0   department  21 non-null     object\n",
      "dtypes: object(1)\n",
      "memory usage: 336.0+ bytes\n"
     ]
    }
   ],
   "source": [
    "df_departments.info()"
   ]
  },
  {
   "cell_type": "code",
   "execution_count": 11,
   "id": "09dc8a0c",
   "metadata": {},
   "outputs": [
    {
     "data": {
      "text/html": [
       "<div>\n",
       "<style scoped>\n",
       "    .dataframe tbody tr th:only-of-type {\n",
       "        vertical-align: middle;\n",
       "    }\n",
       "\n",
       "    .dataframe tbody tr th {\n",
       "        vertical-align: top;\n",
       "    }\n",
       "\n",
       "    .dataframe thead th {\n",
       "        text-align: right;\n",
       "    }\n",
       "</style>\n",
       "<table border=\"1\" class=\"dataframe\">\n",
       "  <thead>\n",
       "    <tr style=\"text-align: right;\">\n",
       "      <th></th>\n",
       "      <th>department</th>\n",
       "    </tr>\n",
       "  </thead>\n",
       "  <tbody>\n",
       "    <tr>\n",
       "      <th>1</th>\n",
       "      <td>frozen</td>\n",
       "    </tr>\n",
       "    <tr>\n",
       "      <th>2</th>\n",
       "      <td>other</td>\n",
       "    </tr>\n",
       "    <tr>\n",
       "      <th>3</th>\n",
       "      <td>bakery</td>\n",
       "    </tr>\n",
       "    <tr>\n",
       "      <th>4</th>\n",
       "      <td>produce</td>\n",
       "    </tr>\n",
       "    <tr>\n",
       "      <th>5</th>\n",
       "      <td>alcohol</td>\n",
       "    </tr>\n",
       "  </tbody>\n",
       "</table>\n",
       "</div>"
      ],
      "text/plain": [
       "  department\n",
       "1     frozen\n",
       "2      other\n",
       "3     bakery\n",
       "4    produce\n",
       "5    alcohol"
      ]
     },
     "execution_count": 11,
     "metadata": {},
     "output_type": "execute_result"
    }
   ],
   "source": [
    "df_departments.head()"
   ]
  },
  {
   "cell_type": "markdown",
   "id": "829e6dec",
   "metadata": {},
   "source": [
    "#### Merge datasets "
   ]
  },
  {
   "cell_type": "code",
   "execution_count": 12,
   "id": "1d098d7e",
   "metadata": {},
   "outputs": [],
   "source": [
    "# Merge departments names into large datafram \n",
    "\n",
    "df = df.merge(df_departments, how = 'inner', left_on ='department_id', right_index = True)"
   ]
  },
  {
   "cell_type": "code",
   "execution_count": 13,
   "id": "7e63f3db",
   "metadata": {},
   "outputs": [
    {
     "data": {
      "text/html": [
       "<div>\n",
       "<style scoped>\n",
       "    .dataframe tbody tr th:only-of-type {\n",
       "        vertical-align: middle;\n",
       "    }\n",
       "\n",
       "    .dataframe tbody tr th {\n",
       "        vertical-align: top;\n",
       "    }\n",
       "\n",
       "    .dataframe thead th {\n",
       "        text-align: right;\n",
       "    }\n",
       "</style>\n",
       "<table border=\"1\" class=\"dataframe\">\n",
       "  <thead>\n",
       "    <tr style=\"text-align: right;\">\n",
       "      <th></th>\n",
       "      <th>product_id</th>\n",
       "      <th>department_id</th>\n",
       "      <th>department</th>\n",
       "    </tr>\n",
       "  </thead>\n",
       "  <tbody>\n",
       "    <tr>\n",
       "      <th>0</th>\n",
       "      <td>196</td>\n",
       "      <td>7</td>\n",
       "      <td>beverages</td>\n",
       "    </tr>\n",
       "    <tr>\n",
       "      <th>1</th>\n",
       "      <td>196</td>\n",
       "      <td>7</td>\n",
       "      <td>beverages</td>\n",
       "    </tr>\n",
       "    <tr>\n",
       "      <th>2</th>\n",
       "      <td>196</td>\n",
       "      <td>7</td>\n",
       "      <td>beverages</td>\n",
       "    </tr>\n",
       "    <tr>\n",
       "      <th>3</th>\n",
       "      <td>196</td>\n",
       "      <td>7</td>\n",
       "      <td>beverages</td>\n",
       "    </tr>\n",
       "    <tr>\n",
       "      <th>4</th>\n",
       "      <td>196</td>\n",
       "      <td>7</td>\n",
       "      <td>beverages</td>\n",
       "    </tr>\n",
       "  </tbody>\n",
       "</table>\n",
       "</div>"
      ],
      "text/plain": [
       "   product_id  department_id department\n",
       "0         196              7  beverages\n",
       "1         196              7  beverages\n",
       "2         196              7  beverages\n",
       "3         196              7  beverages\n",
       "4         196              7  beverages"
      ]
     },
     "execution_count": 13,
     "metadata": {},
     "output_type": "execute_result"
    }
   ],
   "source": [
    "df [['product_id', 'department_id', 'department']].head()"
   ]
  },
  {
   "cell_type": "markdown",
   "id": "a92dc6c4",
   "metadata": {},
   "source": [
    "### 4. Address PII concerns "
   ]
  },
  {
   "cell_type": "markdown",
   "id": "618ac427",
   "metadata": {},
   "source": [
    "#### Name and Surname are the only identifiable data points that could potentially be probelmatic. What to solve: Either could mask this data or drop this data as it could save on RAM - this data is not pertinent to analysis - user_id would suffice"
   ]
  },
  {
   "cell_type": "code",
   "execution_count": 14,
   "id": "7d6f50ca",
   "metadata": {},
   "outputs": [],
   "source": [
    "# Drop Name & Surname Columns \n",
    "\n",
    "df_2 = df.drop(columns = ['first_name','surname'])"
   ]
  },
  {
   "cell_type": "markdown",
   "id": "d5fdbbf4",
   "metadata": {},
   "source": [
    "#### Create additional columns and flags necessary for anlaysis "
   ]
  },
  {
   "cell_type": "code",
   "execution_count": 15,
   "id": "40f213ec",
   "metadata": {},
   "outputs": [],
   "source": [
    "#Create a column that shows total order value per order, per user \n",
    "\n",
    "df_2['total_order_cost'] = df.groupby('order_id')['prices'].transform('sum')"
   ]
  },
  {
   "cell_type": "code",
   "execution_count": 16,
   "id": "35c54425",
   "metadata": {},
   "outputs": [
    {
     "data": {
      "text/html": [
       "<div>\n",
       "<style scoped>\n",
       "    .dataframe tbody tr th:only-of-type {\n",
       "        vertical-align: middle;\n",
       "    }\n",
       "\n",
       "    .dataframe tbody tr th {\n",
       "        vertical-align: top;\n",
       "    }\n",
       "\n",
       "    .dataframe thead th {\n",
       "        text-align: right;\n",
       "    }\n",
       "</style>\n",
       "<table border=\"1\" class=\"dataframe\">\n",
       "  <thead>\n",
       "    <tr style=\"text-align: right;\">\n",
       "      <th></th>\n",
       "      <th>user_id</th>\n",
       "      <th>order_id</th>\n",
       "      <th>total_order_cost</th>\n",
       "    </tr>\n",
       "  </thead>\n",
       "  <tbody>\n",
       "    <tr>\n",
       "      <th>0</th>\n",
       "      <td>1</td>\n",
       "      <td>2539329</td>\n",
       "      <td>31.6</td>\n",
       "    </tr>\n",
       "    <tr>\n",
       "      <th>1</th>\n",
       "      <td>1</td>\n",
       "      <td>2398795</td>\n",
       "      <td>35.4</td>\n",
       "    </tr>\n",
       "    <tr>\n",
       "      <th>2</th>\n",
       "      <td>1</td>\n",
       "      <td>473747</td>\n",
       "      <td>28.2</td>\n",
       "    </tr>\n",
       "    <tr>\n",
       "      <th>3</th>\n",
       "      <td>1</td>\n",
       "      <td>2254736</td>\n",
       "      <td>26.0</td>\n",
       "    </tr>\n",
       "    <tr>\n",
       "      <th>4</th>\n",
       "      <td>1</td>\n",
       "      <td>431534</td>\n",
       "      <td>57.0</td>\n",
       "    </tr>\n",
       "  </tbody>\n",
       "</table>\n",
       "</div>"
      ],
      "text/plain": [
       "   user_id  order_id  total_order_cost\n",
       "0        1   2539329              31.6\n",
       "1        1   2398795              35.4\n",
       "2        1    473747              28.2\n",
       "3        1   2254736              26.0\n",
       "4        1    431534              57.0"
      ]
     },
     "execution_count": 16,
     "metadata": {},
     "output_type": "execute_result"
    }
   ],
   "source": [
    "#check\n",
    "\n",
    "df_2[['user_id','order_id','total_order_cost']].head(5)    "
   ]
  },
  {
   "cell_type": "code",
   "execution_count": 17,
   "id": "ef9d7a95",
   "metadata": {},
   "outputs": [],
   "source": [
    "# Create a column that shows number of products in order cart \n",
    "\n",
    "df_2['num_prod_per_order'] = df.groupby('order_id')['add_to_cart_order'].transform('max')"
   ]
  },
  {
   "cell_type": "code",
   "execution_count": 18,
   "id": "432f02ac",
   "metadata": {},
   "outputs": [
    {
     "data": {
      "text/html": [
       "<div>\n",
       "<style scoped>\n",
       "    .dataframe tbody tr th:only-of-type {\n",
       "        vertical-align: middle;\n",
       "    }\n",
       "\n",
       "    .dataframe tbody tr th {\n",
       "        vertical-align: top;\n",
       "    }\n",
       "\n",
       "    .dataframe thead th {\n",
       "        text-align: right;\n",
       "    }\n",
       "</style>\n",
       "<table border=\"1\" class=\"dataframe\">\n",
       "  <thead>\n",
       "    <tr style=\"text-align: right;\">\n",
       "      <th></th>\n",
       "      <th>order_id</th>\n",
       "      <th>num_prod_per_order</th>\n",
       "      <th>total_order_cost</th>\n",
       "    </tr>\n",
       "  </thead>\n",
       "  <tbody>\n",
       "    <tr>\n",
       "      <th>0</th>\n",
       "      <td>2539329</td>\n",
       "      <td>5</td>\n",
       "      <td>31.6</td>\n",
       "    </tr>\n",
       "    <tr>\n",
       "      <th>1</th>\n",
       "      <td>2398795</td>\n",
       "      <td>6</td>\n",
       "      <td>35.4</td>\n",
       "    </tr>\n",
       "    <tr>\n",
       "      <th>2</th>\n",
       "      <td>473747</td>\n",
       "      <td>5</td>\n",
       "      <td>28.2</td>\n",
       "    </tr>\n",
       "    <tr>\n",
       "      <th>3</th>\n",
       "      <td>2254736</td>\n",
       "      <td>5</td>\n",
       "      <td>26.0</td>\n",
       "    </tr>\n",
       "    <tr>\n",
       "      <th>4</th>\n",
       "      <td>431534</td>\n",
       "      <td>8</td>\n",
       "      <td>57.0</td>\n",
       "    </tr>\n",
       "  </tbody>\n",
       "</table>\n",
       "</div>"
      ],
      "text/plain": [
       "   order_id  num_prod_per_order  total_order_cost\n",
       "0   2539329                   5              31.6\n",
       "1   2398795                   6              35.4\n",
       "2    473747                   5              28.2\n",
       "3   2254736                   5              26.0\n",
       "4    431534                   8              57.0"
      ]
     },
     "execution_count": 18,
     "metadata": {},
     "output_type": "execute_result"
    }
   ],
   "source": [
    "# Check \n",
    "\n",
    "df_2[['order_id','num_prod_per_order','total_order_cost']].head(5)"
   ]
  },
  {
   "cell_type": "code",
   "execution_count": 19,
   "id": "d8ae64fb",
   "metadata": {},
   "outputs": [],
   "source": [
    "# create a column that lists the average price per product per user\n",
    "\n",
    "df_2['avg_prod_price'] = df.groupby('user_id')['prices'].transform('mean')"
   ]
  },
  {
   "cell_type": "code",
   "execution_count": 20,
   "id": "841c186a",
   "metadata": {},
   "outputs": [],
   "source": [
    "# create a column that lists the average order cost for each customer\n",
    "\n",
    "a = df_2.groupby(['user_id','order_number'])['prices'].sum().to_frame()\n",
    "b = a.groupby('user_id')['prices'].mean().rename('avg_order_cost')\n",
    "df_2 = df_2.merge(b, how='left', on='user_id')"
   ]
  },
  {
   "cell_type": "markdown",
   "id": "ad2a0c9f",
   "metadata": {},
   "source": [
    "### 5. Create regional flags "
   ]
  },
  {
   "cell_type": "code",
   "execution_count": 21,
   "id": "e93406db",
   "metadata": {},
   "outputs": [],
   "source": [
    "# Create regions based on states \n",
    "\n",
    "northeast = ['Maine','New Hampshire', 'Vermont', 'Massachusetts','Rhode Island',\n",
    "             'Connecticut','New York','Pennsylvania','New Jersey']\n",
    "\n",
    "midwest = ['Wisconsin','Michigan','Illinois','Indiana','Ohio','North Dakota','South Dakota',\n",
    "           'Nebraska','Kansas','Minnesota','Iowa','Missouri']\n",
    "\n",
    "south = ['Delaware','Maryland','District of Columbia','Virginia','West Virginia','North Carolina',\n",
    "         'South Carolina','Georgia','Florida','Kentucky','Tennessee','Mississippi','Alabama','Oklahoma',\n",
    "         'Texas','Arkansas','Louisiana']\n",
    "\n",
    "west = ['Idaho', 'Montana', 'Wyoming', 'Nevada', 'Utah', 'Colorado', 'Arizona','New Mexico', 'Alaska', \n",
    "        'Washington', 'Oregon', 'California', 'Hawaii']"
   ]
  },
  {
   "cell_type": "code",
   "execution_count": 22,
   "id": "a5a7542b",
   "metadata": {},
   "outputs": [],
   "source": [
    "# Create statement to id new region column\n",
    "\n",
    "df_2.loc[df_2['state'].isin(northeast), 'region'] = 'northeast'"
   ]
  },
  {
   "cell_type": "code",
   "execution_count": 23,
   "id": "448c04f3",
   "metadata": {},
   "outputs": [],
   "source": [
    "df_2.loc[df_2['state'].isin(midwest), 'region'] = 'midwest'"
   ]
  },
  {
   "cell_type": "code",
   "execution_count": 24,
   "id": "4f62a568",
   "metadata": {},
   "outputs": [],
   "source": [
    "df_2.loc[df_2['state'].isin(south), 'region'] = 'south'"
   ]
  },
  {
   "cell_type": "code",
   "execution_count": 25,
   "id": "82cc4613",
   "metadata": {},
   "outputs": [],
   "source": [
    "df_2.loc[df_2['state'].isin(west), 'region'] = 'west'"
   ]
  },
  {
   "cell_type": "code",
   "execution_count": 26,
   "id": "4dfc43c0",
   "metadata": {},
   "outputs": [
    {
     "data": {
      "text/plain": [
       "south        10791885\n",
       "west          8292913\n",
       "midwest       7597325\n",
       "northeast     5722736\n",
       "Name: region, dtype: int64"
      ]
     },
     "execution_count": 26,
     "metadata": {},
     "output_type": "execute_result"
    }
   ],
   "source": [
    "# Check statements \n",
    "\n",
    "df_2['region'].value_counts(dropna=False)"
   ]
  },
  {
   "cell_type": "markdown",
   "id": "73d67d75",
   "metadata": {},
   "source": [
    "### 6. Explore spending habits amongst regions"
   ]
  },
  {
   "cell_type": "code",
   "execution_count": 27,
   "id": "6067e638",
   "metadata": {},
   "outputs": [],
   "source": [
    "region_spending_avg = df_2.groupby(['region', 'spending_flag'])['prices'].mean().reset_index()\n"
   ]
  },
  {
   "cell_type": "code",
   "execution_count": 28,
   "id": "4da36207",
   "metadata": {},
   "outputs": [],
   "source": [
    "pivot_table = region_spending_avg.pivot(index= 'region', columns='spending_flag', values='prices')\n"
   ]
  },
  {
   "cell_type": "code",
   "execution_count": 29,
   "id": "0fc1eacf",
   "metadata": {},
   "outputs": [
    {
     "data": {
      "text/html": [
       "<div>\n",
       "<style scoped>\n",
       "    .dataframe tbody tr th:only-of-type {\n",
       "        vertical-align: middle;\n",
       "    }\n",
       "\n",
       "    .dataframe tbody tr th {\n",
       "        vertical-align: top;\n",
       "    }\n",
       "\n",
       "    .dataframe thead th {\n",
       "        text-align: right;\n",
       "    }\n",
       "</style>\n",
       "<table border=\"1\" class=\"dataframe\">\n",
       "  <thead>\n",
       "    <tr style=\"text-align: right;\">\n",
       "      <th>spending_flag</th>\n",
       "      <th>High spender</th>\n",
       "      <th>Low spender</th>\n",
       "    </tr>\n",
       "    <tr>\n",
       "      <th>region</th>\n",
       "      <th></th>\n",
       "      <th></th>\n",
       "    </tr>\n",
       "  </thead>\n",
       "  <tbody>\n",
       "    <tr>\n",
       "      <th>midwest</th>\n",
       "      <td>248.080653</td>\n",
       "      <td>7.782093</td>\n",
       "    </tr>\n",
       "    <tr>\n",
       "      <th>northeast</th>\n",
       "      <td>207.709477</td>\n",
       "      <td>7.773935</td>\n",
       "    </tr>\n",
       "    <tr>\n",
       "      <th>south</th>\n",
       "      <td>234.822523</td>\n",
       "      <td>7.784123</td>\n",
       "    </tr>\n",
       "    <tr>\n",
       "      <th>west</th>\n",
       "      <td>190.868148</td>\n",
       "      <td>7.779584</td>\n",
       "    </tr>\n",
       "  </tbody>\n",
       "</table>\n",
       "</div>"
      ],
      "text/plain": [
       "spending_flag  High spender  Low spender\n",
       "region                                  \n",
       "midwest          248.080653     7.782093\n",
       "northeast        207.709477     7.773935\n",
       "south            234.822523     7.784123\n",
       "west             190.868148     7.779584"
      ]
     },
     "execution_count": 29,
     "metadata": {},
     "output_type": "execute_result"
    }
   ],
   "source": [
    "pivot_table"
   ]
  },
  {
   "cell_type": "code",
   "execution_count": 30,
   "id": "b99fd4a4",
   "metadata": {},
   "outputs": [],
   "source": [
    "# Determine difference in a spending habits between regions \n",
    "\n",
    "df_region = df_2[['region', 'order_id', 'avg_order_cost', 'avg_prod_price', 'prices', 'total_order_cost', 'user_id']].groupby('region').agg({\n",
    "    'order_id': pd.Series.nunique,\n",
    "    'user_id': pd.Series.nunique,   # Count of unique user_ids per region\n",
    "    'avg_order_cost': 'mean',      # Mean of avg_order_cost\n",
    "    'avg_prod_price': 'mean',      # Mean of avg_prod_price\n",
    "    'prices': 'sum',               # Total order value per region\n",
    "    'total_order_cost': 'max'      # Max order value per order in each region\n",
    "}).sort_values(by='order_id', ascending=False)\n"
   ]
  },
  {
   "cell_type": "code",
   "execution_count": 31,
   "id": "f92a2b2e",
   "metadata": {},
   "outputs": [
    {
     "data": {
      "text/html": [
       "<div>\n",
       "<style scoped>\n",
       "    .dataframe tbody tr th:only-of-type {\n",
       "        vertical-align: middle;\n",
       "    }\n",
       "\n",
       "    .dataframe tbody tr th {\n",
       "        vertical-align: top;\n",
       "    }\n",
       "\n",
       "    .dataframe thead th {\n",
       "        text-align: right;\n",
       "    }\n",
       "</style>\n",
       "<table border=\"1\" class=\"dataframe\">\n",
       "  <thead>\n",
       "    <tr style=\"text-align: right;\">\n",
       "      <th></th>\n",
       "      <th>order_id</th>\n",
       "      <th>user_id</th>\n",
       "      <th>avg_order_cost</th>\n",
       "      <th>avg_prod_price</th>\n",
       "      <th>prices</th>\n",
       "      <th>total_order_cost</th>\n",
       "    </tr>\n",
       "    <tr>\n",
       "      <th>region</th>\n",
       "      <th></th>\n",
       "      <th></th>\n",
       "      <th></th>\n",
       "      <th></th>\n",
       "      <th></th>\n",
       "      <th></th>\n",
       "    </tr>\n",
       "  </thead>\n",
       "  <tbody>\n",
       "    <tr>\n",
       "      <th>south</th>\n",
       "      <td>1071562</td>\n",
       "      <td>68737</td>\n",
       "      <td>159.532955</td>\n",
       "      <td>12.195577</td>\n",
       "      <td>131613265.4</td>\n",
       "      <td>100452.9</td>\n",
       "    </tr>\n",
       "    <tr>\n",
       "      <th>west</th>\n",
       "      <td>821686</td>\n",
       "      <td>52565</td>\n",
       "      <td>151.335532</td>\n",
       "      <td>11.319834</td>\n",
       "      <td>93874398.7</td>\n",
       "      <td>100384.5</td>\n",
       "    </tr>\n",
       "    <tr>\n",
       "      <th>midwest</th>\n",
       "      <td>754275</td>\n",
       "      <td>48519</td>\n",
       "      <td>170.541268</td>\n",
       "      <td>12.715483</td>\n",
       "      <td>96603658.7</td>\n",
       "      <td>100403.8</td>\n",
       "    </tr>\n",
       "    <tr>\n",
       "      <th>northeast</th>\n",
       "      <td>567162</td>\n",
       "      <td>36388</td>\n",
       "      <td>154.533748</td>\n",
       "      <td>11.554997</td>\n",
       "      <td>66126199.8</td>\n",
       "      <td>100322.1</td>\n",
       "    </tr>\n",
       "  </tbody>\n",
       "</table>\n",
       "</div>"
      ],
      "text/plain": [
       "           order_id  user_id  avg_order_cost  avg_prod_price       prices  \\\n",
       "region                                                                      \n",
       "south       1071562    68737      159.532955       12.195577  131613265.4   \n",
       "west         821686    52565      151.335532       11.319834   93874398.7   \n",
       "midwest      754275    48519      170.541268       12.715483   96603658.7   \n",
       "northeast    567162    36388      154.533748       11.554997   66126199.8   \n",
       "\n",
       "           total_order_cost  \n",
       "region                       \n",
       "south              100452.9  \n",
       "west               100384.5  \n",
       "midwest            100403.8  \n",
       "northeast          100322.1  "
      ]
     },
     "execution_count": 31,
     "metadata": {},
     "output_type": "execute_result"
    }
   ],
   "source": [
    "df_region"
   ]
  },
  {
   "cell_type": "markdown",
   "id": "fd128481",
   "metadata": {},
   "source": [
    "####\n",
    "Spending is higher in the South in terms of total amount spents however, average order cost is higher in the midwest\n",
    "#### \n",
    "Indicates that there are more customers in the south, however midwest holds a lot of weight in terms of order value and power "
   ]
  },
  {
   "cell_type": "markdown",
   "id": "8993f69a",
   "metadata": {},
   "source": [
    "#### Create a df that summarizes this data "
   ]
  },
  {
   "cell_type": "code",
   "execution_count": 32,
   "id": "9769c921",
   "metadata": {},
   "outputs": [],
   "source": [
    "# Rename above columns to avoid confusion\n",
    "\n",
    "df_region = df_region.rename(columns={'prices':'prices_sum', 'user_id':'user_count','order_id': 'order_count'})\n"
   ]
  },
  {
   "cell_type": "code",
   "execution_count": 33,
   "id": "1fcec7ae",
   "metadata": {},
   "outputs": [],
   "source": [
    "# create calculated columns based on the aggregated data\n",
    "df_region['price_per_order'] = df_region['prices_sum']/df_region['order_count']\n",
    "df_region['price_per_user'] = df_region['prices_sum']/df_region['user_count']\n",
    "df_region['order_per_user'] = df_region['order_count']/df_region['user_count']"
   ]
  },
  {
   "cell_type": "code",
   "execution_count": 34,
   "id": "f3d9a07b",
   "metadata": {},
   "outputs": [
    {
     "data": {
      "text/html": [
       "<div>\n",
       "<style scoped>\n",
       "    .dataframe tbody tr th:only-of-type {\n",
       "        vertical-align: middle;\n",
       "    }\n",
       "\n",
       "    .dataframe tbody tr th {\n",
       "        vertical-align: top;\n",
       "    }\n",
       "\n",
       "    .dataframe thead th {\n",
       "        text-align: right;\n",
       "    }\n",
       "</style>\n",
       "<table border=\"1\" class=\"dataframe\">\n",
       "  <thead>\n",
       "    <tr style=\"text-align: right;\">\n",
       "      <th></th>\n",
       "      <th>order_count</th>\n",
       "      <th>user_count</th>\n",
       "      <th>avg_order_cost</th>\n",
       "      <th>avg_prod_price</th>\n",
       "      <th>prices_sum</th>\n",
       "      <th>total_order_cost</th>\n",
       "      <th>price_per_order</th>\n",
       "      <th>price_per_user</th>\n",
       "      <th>order_per_user</th>\n",
       "    </tr>\n",
       "    <tr>\n",
       "      <th>region</th>\n",
       "      <th></th>\n",
       "      <th></th>\n",
       "      <th></th>\n",
       "      <th></th>\n",
       "      <th></th>\n",
       "      <th></th>\n",
       "      <th></th>\n",
       "      <th></th>\n",
       "      <th></th>\n",
       "    </tr>\n",
       "  </thead>\n",
       "  <tbody>\n",
       "    <tr>\n",
       "      <th>south</th>\n",
       "      <td>1071562</td>\n",
       "      <td>68737</td>\n",
       "      <td>159.532955</td>\n",
       "      <td>12.195577</td>\n",
       "      <td>131613265.4</td>\n",
       "      <td>100452.9</td>\n",
       "      <td>122.823752</td>\n",
       "      <td>1914.736829</td>\n",
       "      <td>15.589304</td>\n",
       "    </tr>\n",
       "    <tr>\n",
       "      <th>west</th>\n",
       "      <td>821686</td>\n",
       "      <td>52565</td>\n",
       "      <td>151.335532</td>\n",
       "      <td>11.319834</td>\n",
       "      <td>93874398.7</td>\n",
       "      <td>100384.5</td>\n",
       "      <td>114.246073</td>\n",
       "      <td>1785.872704</td>\n",
       "      <td>15.631808</td>\n",
       "    </tr>\n",
       "    <tr>\n",
       "      <th>midwest</th>\n",
       "      <td>754275</td>\n",
       "      <td>48519</td>\n",
       "      <td>170.541268</td>\n",
       "      <td>12.715483</td>\n",
       "      <td>96603658.7</td>\n",
       "      <td>100403.8</td>\n",
       "      <td>128.074852</td>\n",
       "      <td>1991.048016</td>\n",
       "      <td>15.545972</td>\n",
       "    </tr>\n",
       "    <tr>\n",
       "      <th>northeast</th>\n",
       "      <td>567162</td>\n",
       "      <td>36388</td>\n",
       "      <td>154.533748</td>\n",
       "      <td>11.554997</td>\n",
       "      <td>66126199.8</td>\n",
       "      <td>100322.1</td>\n",
       "      <td>116.591379</td>\n",
       "      <td>1817.252935</td>\n",
       "      <td>15.586512</td>\n",
       "    </tr>\n",
       "  </tbody>\n",
       "</table>\n",
       "</div>"
      ],
      "text/plain": [
       "           order_count  user_count  avg_order_cost  avg_prod_price  \\\n",
       "region                                                               \n",
       "south          1071562       68737      159.532955       12.195577   \n",
       "west            821686       52565      151.335532       11.319834   \n",
       "midwest         754275       48519      170.541268       12.715483   \n",
       "northeast       567162       36388      154.533748       11.554997   \n",
       "\n",
       "            prices_sum  total_order_cost  price_per_order  price_per_user  \\\n",
       "region                                                                      \n",
       "south      131613265.4          100452.9       122.823752     1914.736829   \n",
       "west        93874398.7          100384.5       114.246073     1785.872704   \n",
       "midwest     96603658.7          100403.8       128.074852     1991.048016   \n",
       "northeast   66126199.8          100322.1       116.591379     1817.252935   \n",
       "\n",
       "           order_per_user  \n",
       "region                     \n",
       "south           15.589304  \n",
       "west            15.631808  \n",
       "midwest         15.545972  \n",
       "northeast       15.586512  "
      ]
     },
     "execution_count": 34,
     "metadata": {},
     "output_type": "execute_result"
    }
   ],
   "source": [
    "df_region"
   ]
  },
  {
   "cell_type": "markdown",
   "id": "c2b4fa1a",
   "metadata": {},
   "source": [
    "### 7. Exploring Customer data"
   ]
  },
  {
   "cell_type": "markdown",
   "id": "6d15c488",
   "metadata": {},
   "source": [
    "#### Create an exclusion flag for low-activity customers (customers with less than 5 orders) and exclude them from the data."
   ]
  },
  {
   "cell_type": "code",
   "execution_count": 35,
   "id": "8e463fb6",
   "metadata": {},
   "outputs": [],
   "source": [
    "df_2.loc[df_2['max_order'] < 5, 'exclusion'] = 1"
   ]
  },
  {
   "cell_type": "code",
   "execution_count": 36,
   "id": "159324bd",
   "metadata": {},
   "outputs": [],
   "source": [
    "df_2.loc[df_2['max_order'] >= 5, 'exclusion'] = 0"
   ]
  },
  {
   "cell_type": "code",
   "execution_count": 37,
   "id": "fc9201e9",
   "metadata": {},
   "outputs": [
    {
     "data": {
      "text/plain": [
       "0.0    30964564\n",
       "1.0     1440295\n",
       "Name: exclusion, dtype: int64"
      ]
     },
     "execution_count": 37,
     "metadata": {},
     "output_type": "execute_result"
    }
   ],
   "source": [
    "#check results\n",
    "\n",
    "df_2['exclusion'].value_counts(dropna = False)"
   ]
  },
  {
   "cell_type": "code",
   "execution_count": 38,
   "id": "4032c10f",
   "metadata": {},
   "outputs": [],
   "source": [
    "# Filter the DataFrame to select rows where 'max_order' is less than 5\n",
    "sample_df = df_2[df_2['max_order'] < 5]"
   ]
  },
  {
   "cell_type": "code",
   "execution_count": 39,
   "id": "a655ef55",
   "metadata": {},
   "outputs": [],
   "source": [
    "# Export the sample DataFrame to a CSV file\n",
    "\n",
    "sample_df.to_csv(os.path.join(path, '02 Data', 'Prepared Data', 'sample_max_order_lt_5.csv'), index=False)"
   ]
  },
  {
   "cell_type": "markdown",
   "id": "83cbb8e9",
   "metadata": {},
   "source": [
    "### 8. Create Customer Profiling "
   ]
  },
  {
   "cell_type": "code",
   "execution_count": 40,
   "id": "b1b1282e",
   "metadata": {},
   "outputs": [],
   "source": [
    "# create a df that just lists customers\n",
    "\n",
    "customers = df_2.drop_duplicates(subset=['user_id'])"
   ]
  },
  {
   "cell_type": "code",
   "execution_count": 41,
   "id": "a3ddd8ed",
   "metadata": {},
   "outputs": [
    {
     "data": {
      "text/plain": [
       "(206209, 42)"
      ]
     },
     "execution_count": 41,
     "metadata": {},
     "output_type": "execute_result"
    }
   ],
   "source": [
    "customers.shape"
   ]
  },
  {
   "cell_type": "markdown",
   "id": "f17e2e15",
   "metadata": {},
   "source": [
    "#### Age ranges for customers"
   ]
  },
  {
   "cell_type": "code",
   "execution_count": 42,
   "id": "eb9b8fcb",
   "metadata": {},
   "outputs": [],
   "source": [
    "# Find the maximum income\n",
    "max_income = df_2['income'].max()\n",
    "\n",
    "\n",
    "# Find the minimum income\n",
    "min_income = df['income'].min()"
   ]
  },
  {
   "cell_type": "code",
   "execution_count": 43,
   "id": "50ace05d",
   "metadata": {},
   "outputs": [
    {
     "data": {
      "text/plain": [
       "593901"
      ]
     },
     "execution_count": 43,
     "metadata": {},
     "output_type": "execute_result"
    }
   ],
   "source": [
    "max_income"
   ]
  },
  {
   "cell_type": "code",
   "execution_count": 44,
   "id": "7ae69ca6",
   "metadata": {},
   "outputs": [
    {
     "data": {
      "text/plain": [
       "25903"
      ]
     },
     "execution_count": 44,
     "metadata": {},
     "output_type": "execute_result"
    }
   ],
   "source": [
    "min_income"
   ]
  },
  {
   "cell_type": "markdown",
   "id": "4446d470",
   "metadata": {},
   "source": [
    "#### Create customer profiles based on age and income"
   ]
  },
  {
   "cell_type": "code",
   "execution_count": 45,
   "id": "1ddd95eb",
   "metadata": {},
   "outputs": [],
   "source": [
    "# Define criteria for customer profiles\n",
    "\n",
    "# Define age bins and labels\n",
    "bins_age = [0, 25, 35, 45, 55, float('inf')]\n",
    "labels_age = ['Young Adult', 'Adult', 'Middle-aged', 'Senior Adult', 'Senior']\n",
    "\n",
    "# Define income bins and labels\n",
    "bins_income = [0, 30000, 45000, 75000, 100000, float('inf')]\n",
    "labels_income = ['Low Income', 'Lower-Middle Income', 'Middle Income', 'Upper-Middle Income', 'High Income']"
   ]
  },
  {
   "cell_type": "code",
   "execution_count": 46,
   "id": "1d07bb2b",
   "metadata": {},
   "outputs": [],
   "source": [
    "# Create profiling variables based on age and income\n",
    "\n",
    "df_2['age_profile'] = pd.cut(df_2['age'], bins=bins_age, labels=labels_age)\n",
    "df_2['income_profile'] = pd.cut(df_2['income'], bins=bins_income, labels=labels_income)\n",
    "\n"
   ]
  },
  {
   "cell_type": "code",
   "execution_count": 47,
   "id": "d1e113a9",
   "metadata": {},
   "outputs": [
    {
     "data": {
      "text/html": [
       "<div>\n",
       "<style scoped>\n",
       "    .dataframe tbody tr th:only-of-type {\n",
       "        vertical-align: middle;\n",
       "    }\n",
       "\n",
       "    .dataframe tbody tr th {\n",
       "        vertical-align: top;\n",
       "    }\n",
       "\n",
       "    .dataframe thead th {\n",
       "        text-align: right;\n",
       "    }\n",
       "</style>\n",
       "<table border=\"1\" class=\"dataframe\">\n",
       "  <thead>\n",
       "    <tr style=\"text-align: right;\">\n",
       "      <th></th>\n",
       "      <th>order_id</th>\n",
       "      <th>user_id</th>\n",
       "      <th>order_number</th>\n",
       "      <th>orders_day_of_week</th>\n",
       "      <th>order_hour_of_day</th>\n",
       "      <th>days_since_prior_order</th>\n",
       "      <th>first_order</th>\n",
       "      <th>product_id</th>\n",
       "      <th>add_to_cart_order</th>\n",
       "      <th>reordered</th>\n",
       "      <th>...</th>\n",
       "      <th>income</th>\n",
       "      <th>department</th>\n",
       "      <th>total_order_cost</th>\n",
       "      <th>num_prod_per_order</th>\n",
       "      <th>avg_prod_price</th>\n",
       "      <th>avg_order_cost</th>\n",
       "      <th>region</th>\n",
       "      <th>exclusion</th>\n",
       "      <th>age_profile</th>\n",
       "      <th>income_profile</th>\n",
       "    </tr>\n",
       "  </thead>\n",
       "  <tbody>\n",
       "    <tr>\n",
       "      <th>0</th>\n",
       "      <td>2539329</td>\n",
       "      <td>1</td>\n",
       "      <td>1</td>\n",
       "      <td>2</td>\n",
       "      <td>8</td>\n",
       "      <td>NaN</td>\n",
       "      <td>1</td>\n",
       "      <td>196</td>\n",
       "      <td>1</td>\n",
       "      <td>0</td>\n",
       "      <td>...</td>\n",
       "      <td>40423</td>\n",
       "      <td>beverages</td>\n",
       "      <td>31.6</td>\n",
       "      <td>5</td>\n",
       "      <td>6.367797</td>\n",
       "      <td>37.57</td>\n",
       "      <td>south</td>\n",
       "      <td>0.0</td>\n",
       "      <td>Adult</td>\n",
       "      <td>Lower-Middle Income</td>\n",
       "    </tr>\n",
       "    <tr>\n",
       "      <th>1</th>\n",
       "      <td>2398795</td>\n",
       "      <td>1</td>\n",
       "      <td>2</td>\n",
       "      <td>3</td>\n",
       "      <td>7</td>\n",
       "      <td>15.0</td>\n",
       "      <td>0</td>\n",
       "      <td>196</td>\n",
       "      <td>1</td>\n",
       "      <td>1</td>\n",
       "      <td>...</td>\n",
       "      <td>40423</td>\n",
       "      <td>beverages</td>\n",
       "      <td>35.4</td>\n",
       "      <td>6</td>\n",
       "      <td>6.367797</td>\n",
       "      <td>37.57</td>\n",
       "      <td>south</td>\n",
       "      <td>0.0</td>\n",
       "      <td>Adult</td>\n",
       "      <td>Lower-Middle Income</td>\n",
       "    </tr>\n",
       "    <tr>\n",
       "      <th>2</th>\n",
       "      <td>473747</td>\n",
       "      <td>1</td>\n",
       "      <td>3</td>\n",
       "      <td>3</td>\n",
       "      <td>12</td>\n",
       "      <td>21.0</td>\n",
       "      <td>0</td>\n",
       "      <td>196</td>\n",
       "      <td>1</td>\n",
       "      <td>1</td>\n",
       "      <td>...</td>\n",
       "      <td>40423</td>\n",
       "      <td>beverages</td>\n",
       "      <td>28.2</td>\n",
       "      <td>5</td>\n",
       "      <td>6.367797</td>\n",
       "      <td>37.57</td>\n",
       "      <td>south</td>\n",
       "      <td>0.0</td>\n",
       "      <td>Adult</td>\n",
       "      <td>Lower-Middle Income</td>\n",
       "    </tr>\n",
       "    <tr>\n",
       "      <th>3</th>\n",
       "      <td>2254736</td>\n",
       "      <td>1</td>\n",
       "      <td>4</td>\n",
       "      <td>4</td>\n",
       "      <td>7</td>\n",
       "      <td>29.0</td>\n",
       "      <td>0</td>\n",
       "      <td>196</td>\n",
       "      <td>1</td>\n",
       "      <td>1</td>\n",
       "      <td>...</td>\n",
       "      <td>40423</td>\n",
       "      <td>beverages</td>\n",
       "      <td>26.0</td>\n",
       "      <td>5</td>\n",
       "      <td>6.367797</td>\n",
       "      <td>37.57</td>\n",
       "      <td>south</td>\n",
       "      <td>0.0</td>\n",
       "      <td>Adult</td>\n",
       "      <td>Lower-Middle Income</td>\n",
       "    </tr>\n",
       "    <tr>\n",
       "      <th>4</th>\n",
       "      <td>431534</td>\n",
       "      <td>1</td>\n",
       "      <td>5</td>\n",
       "      <td>4</td>\n",
       "      <td>15</td>\n",
       "      <td>28.0</td>\n",
       "      <td>0</td>\n",
       "      <td>196</td>\n",
       "      <td>1</td>\n",
       "      <td>1</td>\n",
       "      <td>...</td>\n",
       "      <td>40423</td>\n",
       "      <td>beverages</td>\n",
       "      <td>57.0</td>\n",
       "      <td>8</td>\n",
       "      <td>6.367797</td>\n",
       "      <td>37.57</td>\n",
       "      <td>south</td>\n",
       "      <td>0.0</td>\n",
       "      <td>Adult</td>\n",
       "      <td>Lower-Middle Income</td>\n",
       "    </tr>\n",
       "  </tbody>\n",
       "</table>\n",
       "<p>5 rows × 44 columns</p>\n",
       "</div>"
      ],
      "text/plain": [
       "   order_id  user_id  order_number  orders_day_of_week  order_hour_of_day  \\\n",
       "0   2539329        1             1                   2                  8   \n",
       "1   2398795        1             2                   3                  7   \n",
       "2    473747        1             3                   3                 12   \n",
       "3   2254736        1             4                   4                  7   \n",
       "4    431534        1             5                   4                 15   \n",
       "\n",
       "   days_since_prior_order  first_order  product_id  add_to_cart_order  \\\n",
       "0                     NaN            1         196                  1   \n",
       "1                    15.0            0         196                  1   \n",
       "2                    21.0            0         196                  1   \n",
       "3                    29.0            0         196                  1   \n",
       "4                    28.0            0         196                  1   \n",
       "\n",
       "   reordered  ... income  department  total_order_cost  num_prod_per_order  \\\n",
       "0          0  ...  40423   beverages              31.6                   5   \n",
       "1          1  ...  40423   beverages              35.4                   6   \n",
       "2          1  ...  40423   beverages              28.2                   5   \n",
       "3          1  ...  40423   beverages              26.0                   5   \n",
       "4          1  ...  40423   beverages              57.0                   8   \n",
       "\n",
       "  avg_prod_price avg_order_cost region exclusion  age_profile  \\\n",
       "0       6.367797          37.57  south       0.0        Adult   \n",
       "1       6.367797          37.57  south       0.0        Adult   \n",
       "2       6.367797          37.57  south       0.0        Adult   \n",
       "3       6.367797          37.57  south       0.0        Adult   \n",
       "4       6.367797          37.57  south       0.0        Adult   \n",
       "\n",
       "        income_profile  \n",
       "0  Lower-Middle Income  \n",
       "1  Lower-Middle Income  \n",
       "2  Lower-Middle Income  \n",
       "3  Lower-Middle Income  \n",
       "4  Lower-Middle Income  \n",
       "\n",
       "[5 rows x 44 columns]"
      ]
     },
     "execution_count": 47,
     "metadata": {},
     "output_type": "execute_result"
    }
   ],
   "source": [
    "df_2.head(5)"
   ]
  },
  {
   "cell_type": "code",
   "execution_count": 48,
   "id": "15d03146",
   "metadata": {},
   "outputs": [
    {
     "name": "stdout",
     "output_type": "stream",
     "text": [
      "     user_id  age  income\n",
      "0        308   22   27467\n",
      "1        598   21   26576\n",
      "2        909   18   29258\n",
      "3       1087   19   29005\n",
      "4       1342   24   28806\n",
      "..       ...  ...     ...\n",
      "645   203827   22   28823\n",
      "646   204250   22   29956\n",
      "647   204256   24   27476\n",
      "648   204329   19   25972\n",
      "649   205480   19   26219\n",
      "\n",
      "[650 rows x 3 columns]\n"
     ]
    }
   ],
   "source": [
    "# Check to see if criteria in action\n",
    "\n",
    "# Define the criteria for the subset\n",
    "young_adult_low_income = df_2[(df_2['age_profile'] == 'Young Adult') & (df_2['income_profile'] == 'Low Income')]\n",
    "\n",
    "# Group the subset by user_id and include the 'age' and 'income' columns\n",
    "young_adult_table = young_adult_low_income.groupby('user_id').agg({'age': 'first', 'income': 'first'}).reset_index()\n",
    "\n",
    "# View the table\n",
    "print(young_adult_table)"
   ]
  },
  {
   "cell_type": "markdown",
   "id": "7edbc52e",
   "metadata": {},
   "source": [
    "#### Create visualisation based on age bins"
   ]
  },
  {
   "cell_type": "code",
   "execution_count": 49,
   "id": "17a22240",
   "metadata": {},
   "outputs": [
    {
     "data": {
      "image/png": "[encoded data removed]",
      "text/plain": [
       "<Figure size 640x480 with 1 Axes>"
      ]
     },
     "metadata": {},
     "output_type": "display_data"
    }
   ],
   "source": [
    "# Count the number of users in each age group (remove duplicates)\n",
    "age_group_counts = df_2.drop_duplicates(subset=['user_id'])['age_profile'].value_counts().reindex(labels_age, fill_value=0)\n",
    "\n",
    "# Create a bar graph\n",
    "age_group_counts_bar = age_group_counts.plot(kind='bar', color='skyblue')\n",
    "plt.xlabel('Age Profile')\n",
    "plt.ylabel('Number of Users')\n",
    "plt.title('Number of Users in Each Age Group')\n",
    "plt.xticks(rotation=45)\n",
    "plt.show()"
   ]
  },
  {
   "cell_type": "code",
   "execution_count": 70,
   "id": "35774c1e",
   "metadata": {},
   "outputs": [],
   "source": [
    "#export the visualization \n",
    "age_group_counts_bar.figure.savefig(os.path.join(path, '04 Analysis','Visualisations', 'age_group_counts_bar.png'), bbox_inches='tight')"
   ]
  },
  {
   "cell_type": "markdown",
   "id": "813a491a",
   "metadata": {},
   "source": [
    "### Create vis based on income brackets"
   ]
  },
  {
   "cell_type": "code",
   "execution_count": 51,
   "id": "6fc4f6a3",
   "metadata": {},
   "outputs": [
    {
     "data": {
      "image/png": "[encoded data removed]",
      "text/plain": [
       "<Figure size 640x480 with 1 Axes>"
      ]
     },
     "metadata": {},
     "output_type": "display_data"
    }
   ],
   "source": [
    "# Count the number of users in each income bracket (remove duplicates)\n",
    "income_bracket_counts = df_2.drop_duplicates(subset=['user_id'])['income_profile'].value_counts().reindex(labels_income, fill_value=0)\n",
    "\n",
    "# Create a bar graph\n",
    "income_bracket_counts_bar = income_bracket_counts.plot(kind='bar', color='skyblue')\n",
    "plt.xlabel('Income Bracket')\n",
    "plt.ylabel('Number of Users')\n",
    "plt.title('Number of Users in Each Income Bracket')\n",
    "plt.xticks(rotation=45)\n",
    "plt.show()"
   ]
  },
  {
   "cell_type": "code",
   "execution_count": 71,
   "id": "6d280275",
   "metadata": {},
   "outputs": [],
   "source": [
    "#export the visualization \n",
    "income_bracket_counts_bar.figure.savefig(os.path.join(path, '04 Analysis','Visualisations', 'income_bracket_counts_bar.png'), bbox_inches='tight')"
   ]
  },
  {
   "cell_type": "markdown",
   "id": "666c3629",
   "metadata": {},
   "source": [
    "### Customer Profiles - Personas"
   ]
  },
  {
   "cell_type": "markdown",
   "id": "76f80739",
   "metadata": {},
   "source": [
    "### Family Shoppers:\n",
    "\n",
    "Profile Criteria: Customers with a high number of dependents who purchase from the \"baby\" and \"pantry\" departments.\n",
    "Description: This profile includes families with young children who buy baby-related products and pantry staples."
   ]
  },
  {
   "cell_type": "code",
   "execution_count": 53,
   "id": "ee69c550",
   "metadata": {},
   "outputs": [],
   "source": [
    "# Create a new column for the \"Family Shoppers\" profile\n",
    "\n",
    "df_2['profile_family_shopper'] = (df_2['n_dependants'] >= 1) & ((df_2['department'] == 'babies'))"
   ]
  },
  {
   "cell_type": "code",
   "execution_count": 54,
   "id": "aca3b1ff",
   "metadata": {},
   "outputs": [],
   "source": [
    "# Filter the DataFrame to find customers with the \"Family Shoppers\" profile\n",
    "\n",
    "family_shoppers = df_2[df_2['profile_family_shopper']]"
   ]
  },
  {
   "cell_type": "code",
   "execution_count": 55,
   "id": "d67bf8fb",
   "metadata": {},
   "outputs": [],
   "source": [
    "#Check output\n",
    "\n",
    "family_shoppers = df_2[df_2['profile_family_shopper'] == True]"
   ]
  },
  {
   "cell_type": "markdown",
   "id": "666495c0",
   "metadata": {},
   "source": [
    "### Pet Owners:\n",
    "\n",
    "Profile Criteria: Customers who purchase items from the \"pets\" department.\n",
    "\n",
    "Description: This profile represents pet owners who buy pet-related products."
   ]
  },
  {
   "cell_type": "code",
   "execution_count": 56,
   "id": "1d4c7b53",
   "metadata": {},
   "outputs": [],
   "source": [
    "# Create a new column for the \"Pet Owners\" profile\n",
    "df_2['profile_pet_owner'] = (df_2['department'] == 'pets')\n",
    "\n",
    "# Filter the DataFrame to find customers with the \"Pet Owners\" profile\n",
    "pet_owners = df_2[df_2['profile_pet_owner']]\n",
    "\n",
    "\n",
    "pet_owners = df_2[df_2['profile_pet_owner'] == True]"
   ]
  },
  {
   "cell_type": "markdown",
   "id": "1f3ff078",
   "metadata": {},
   "source": [
    "### Late-Night Shoppers:\n",
    "\n",
    "Profile Criteria: Customers who shop during late hours (e.g., after 8 PM) based on the \"order_hour_of_day\" column.\n",
    "Description: This profile includes customers who prefer shopping during late-night hours."
   ]
  },
  {
   "cell_type": "code",
   "execution_count": 57,
   "id": "690e6bc3",
   "metadata": {},
   "outputs": [],
   "source": [
    "# Create a new column for the \"Late-Night Shoppers\" profile\n",
    "df_2['profile_late_night_shopper'] = (df_2['order_hour_of_day'] > 20)\n",
    "\n",
    "# Filter the DataFrame to find customers with the \"Late-Night Shoppers\" profile\n",
    "late_night_shoppers = df_2[df_2['profile_late_night_shopper']]\n"
   ]
  },
  {
   "cell_type": "markdown",
   "id": "c53a0ed5",
   "metadata": {},
   "source": [
    "### Bulk Shoppers:\n",
    "\n",
    "Profile Criteria: Customers who buy items in bulk from the \"bulk\" department.\n",
    "Description: This profile represents customers who prefer purchasing in larger quantities."
   ]
  },
  {
   "cell_type": "code",
   "execution_count": 58,
   "id": "8ac53585",
   "metadata": {},
   "outputs": [],
   "source": [
    "# Create a new column for the \"Bulk Shoppers\" profile\n",
    "\n",
    "df_2['profile_bulk_shopper'] = (df_2['department'] == 'bulk')\n",
    "\n",
    "# Filter the DataFrame to find customers with the \"Bulk Shoppers\" profile\n",
    "\n",
    "bulk_shoppers = df_2[df_2['profile_bulk_shopper']]"
   ]
  },
  {
   "cell_type": "markdown",
   "id": "3d0f1f0e",
   "metadata": {},
   "source": [
    "### Weekend Shoppers:\n",
    "\n",
    "Profile Criteria: Customers who tend to shop on weekends (based on \"orders_day_of_week\" and \"order_hour_of_day\" columns).\n",
    "Description: This profile captures customers who do their grocery shopping primarily on weekends."
   ]
  },
  {
   "cell_type": "code",
   "execution_count": 59,
   "id": "e0cd0c8d",
   "metadata": {},
   "outputs": [],
   "source": [
    "# Create a new column for the \"Weekend Shoppers\" profile\n",
    "df_2['profile_weekend_shopper'] = ((df_2['orders_day_of_week'] == 0) | (df_2['orders_day_of_week'] == 1))\n",
    "\n",
    "# Filter the DataFrame to find customers with the \"Weekend Shoppers\" profile\n",
    "weekend_shoppers = df_2[df_2['profile_weekend_shopper']]"
   ]
  },
  {
   "cell_type": "markdown",
   "id": "6c6e38d3",
   "metadata": {},
   "source": [
    "### Health Enthusiasts:\n",
    "\n",
    "Profile Criteria: Customers who purchase a significant number of items from the \"produce,\" \"meat seafood,\" and \"dairy eggs\" departments.\n",
    "Description: This profile represents customers who prioritize fresh and healthy food choices."
   ]
  },
  {
   "cell_type": "code",
   "execution_count": 60,
   "id": "cd60c41c",
   "metadata": {},
   "outputs": [],
   "source": [
    "# Create a new column for the \"Health Enthusiasts\" profile\n",
    "df_2['profile_health_enthusiast'] = (\n",
    "    (df_2['department'].isin(['produce', 'meat seafood', 'dairy eggs','breakfast'])))\n",
    "\n",
    "# Filter the DataFrame to find customers with the \"Health Enthusiasts\" profile\n",
    "health_enthusiasts = df_2[df_2['profile_health_enthusiast']]"
   ]
  },
  {
   "cell_type": "markdown",
   "id": "96204d1e",
   "metadata": {},
   "source": [
    "### Convenience Shoppers:\n",
    "\n",
    "Profile Criteria: Customers who frequently purchase items from the \"frozen,\" \"canned goods,\" and \"snacks\" departments.\n",
    "Description: This profile includes customers who prefer convenient and easy-to-prepare food options."
   ]
  },
  {
   "cell_type": "code",
   "execution_count": 61,
   "id": "10a10724",
   "metadata": {},
   "outputs": [],
   "source": [
    "# Create a new column for the \"Convenience Shoppers\" profile\n",
    "df_2['profile_convenience_shopper'] = (\n",
    "    df_2['department'].isin(['frozen', 'canned goods', 'snacks']))\n",
    "\n",
    "# Filter the DataFrame to find customers with the \"Convenience Shoppers\" profile\n",
    "convenience_shoppers = df_2[df_2['profile_convenience_shopper']]\n"
   ]
  },
  {
   "cell_type": "markdown",
   "id": "bde18eee",
   "metadata": {},
   "source": [
    "### Gourmet Foodies:\n",
    "\n",
    "Profile Criteria: Customers who buy specialty items from the \"international\" and \"deli\" departments.\n",
    "Description: This profile represents customers who enjoy exploring and indulging in gourmet and international cuisine."
   ]
  },
  {
   "cell_type": "code",
   "execution_count": 62,
   "id": "13394a3f",
   "metadata": {},
   "outputs": [],
   "source": [
    "# Create a new column for the \"Gourmet Foodies\" profile\n",
    "df_2['profile_gourmet_foodie'] = (\n",
    "    df_2['department'].isin(['international', 'deli']))\n",
    "\n",
    "# Filter the DataFrame to find customers with the \"Gourmet Foodies\" profile\n",
    "gourmet_foodies = df_2[df_2['profile_gourmet_foodie']]"
   ]
  },
  {
   "cell_type": "markdown",
   "id": "033ee68c",
   "metadata": {},
   "source": [
    "### Single Adult:\n",
    "\n",
    "Prodile Criteria: Customers who are considered to be legal adults (18+) without any dependants. \n",
    "Description: This profile represents customers who are considered adults and therefore have buying power but do not need to consider dependants. "
   ]
  },
  {
   "cell_type": "code",
   "execution_count": 63,
   "id": "fd3d7ade",
   "metadata": {},
   "outputs": [
    {
     "name": "stdout",
     "output_type": "stream",
     "text": [
      "Number of 'Single Adult' profiles: 7972187\n"
     ]
    }
   ],
   "source": [
    "# Create a 'Single Adult' label based on age and number of dependants\n",
    "df_2['profile_single_adult'] = (\n",
    "    (df_2['age'] > 18)  # Age is above 18\n",
    "    & (df_2['n_dependants'] == 0)  # No dependants\n",
    ")\n",
    "\n",
    "# Check the counts of 'Single Adult' profiles\n",
    "single_adult_count = df_2['profile_single_adult'].sum()\n",
    "print(f\"Number of 'Single Adult' profiles: {single_adult_count}\")"
   ]
  },
  {
   "cell_type": "markdown",
   "id": "a9804427",
   "metadata": {},
   "source": [
    "####  Vis to represent the cusotmer categories "
   ]
  },
  {
   "cell_type": "code",
   "execution_count": 64,
   "id": "257cf536",
   "metadata": {},
   "outputs": [
    {
     "data": {
      "image/png": "[encoded data removed]",
      "text/plain": [
       "<Figure size 1200x600 with 1 Axes>"
      ]
     },
     "metadata": {},
     "output_type": "display_data"
    }
   ],
   "source": [
    "# Define a list of profile categories\n",
    "profile_categories = [\n",
    "    'family Shopper', 'pet owner', 'late night Shopper',\n",
    "    'bulk shopper', 'weekend shopper', 'Health Enthusiast',\n",
    "    'convenience shopper', 'gourmet foodie', 'single adult']\n",
    "\n",
    "# Count the number of unique users in each profile category\n",
    "user_counts = []\n",
    "\n",
    "for category in profile_categories:\n",
    "    profile_column_name = f'profile_{category.replace(\" \", \"_\").lower()}'\n",
    "    user_count = df_2[df_2[profile_column_name] == True]['user_id'].nunique()\n",
    "    user_counts.append(user_count)\n",
    "\n",
    "# Create a bar chart\n",
    "number_of_users_profile_categories = plt.figure(figsize=(12, 6))\n",
    "plt.bar(profile_categories, user_counts, color='skyblue')\n",
    "plt.xlabel('Profile Categories')\n",
    "plt.ylabel('Number of Unique Users')\n",
    "plt.title('Number of Unique Users in Each Profile Category')\n",
    "plt.xticks(rotation=45, ha='right')\n",
    "\n",
    "# Show the chart\n",
    "plt.tight_layout()\n",
    "plt.show()\n"
   ]
  },
  {
   "cell_type": "code",
   "execution_count": 65,
   "id": "42eea4bd",
   "metadata": {},
   "outputs": [],
   "source": [
    "#export the visualization \n",
    "number_of_users_profile_categories.figure.savefig(os.path.join(path, '04 Analysis','Visualisations', 'number_of_users_profile_categories.png'), bbox_inches='tight')"
   ]
  },
  {
   "cell_type": "markdown",
   "id": "33930a8c",
   "metadata": {},
   "source": [
    "#### Aggregate the max, mean, and min variables on a customer-profile level for usage frequency and expenditure."
   ]
  },
  {
   "cell_type": "code",
   "execution_count": 66,
   "id": "8114611b",
   "metadata": {},
   "outputs": [
    {
     "name": "stdout",
     "output_type": "stream",
     "text": [
      "['family Shopper', 'pet owner', 'late night Shopper', 'bulk shopper', 'weekend shopper', 'Health Enthusiast', 'convenience shopper', 'gourmet foodie', 'single adult']\n"
     ]
    }
   ],
   "source": [
    "# Profile categories defined above \n",
    "\n",
    "print(profile_categories)"
   ]
  },
  {
   "cell_type": "code",
   "execution_count": 67,
   "id": "36177ef8",
   "metadata": {},
   "outputs": [
    {
     "data": {
      "text/html": [
       "<div>\n",
       "<style scoped>\n",
       "    .dataframe tbody tr th:only-of-type {\n",
       "        vertical-align: middle;\n",
       "    }\n",
       "\n",
       "    .dataframe tbody tr th {\n",
       "        vertical-align: top;\n",
       "    }\n",
       "\n",
       "    .dataframe thead th {\n",
       "        text-align: right;\n",
       "    }\n",
       "</style>\n",
       "<table border=\"1\" class=\"dataframe\">\n",
       "  <thead>\n",
       "    <tr style=\"text-align: right;\">\n",
       "      <th></th>\n",
       "      <th>order_id</th>\n",
       "      <th>user_id</th>\n",
       "      <th>order_number</th>\n",
       "      <th>orders_day_of_week</th>\n",
       "      <th>order_hour_of_day</th>\n",
       "      <th>days_since_prior_order</th>\n",
       "      <th>first_order</th>\n",
       "      <th>product_id</th>\n",
       "      <th>add_to_cart_order</th>\n",
       "      <th>reordered</th>\n",
       "      <th>...</th>\n",
       "      <th>income_profile</th>\n",
       "      <th>profile_family_shopper</th>\n",
       "      <th>profile_pet_owner</th>\n",
       "      <th>profile_late_night_shopper</th>\n",
       "      <th>profile_bulk_shopper</th>\n",
       "      <th>profile_weekend_shopper</th>\n",
       "      <th>profile_health_enthusiast</th>\n",
       "      <th>profile_convenience_shopper</th>\n",
       "      <th>profile_gourmet_foodie</th>\n",
       "      <th>profile_single_adult</th>\n",
       "    </tr>\n",
       "  </thead>\n",
       "  <tbody>\n",
       "    <tr>\n",
       "      <th>0</th>\n",
       "      <td>2539329</td>\n",
       "      <td>1</td>\n",
       "      <td>1</td>\n",
       "      <td>2</td>\n",
       "      <td>8</td>\n",
       "      <td>NaN</td>\n",
       "      <td>1</td>\n",
       "      <td>196</td>\n",
       "      <td>1</td>\n",
       "      <td>0</td>\n",
       "      <td>...</td>\n",
       "      <td>Lower-Middle Income</td>\n",
       "      <td>False</td>\n",
       "      <td>False</td>\n",
       "      <td>False</td>\n",
       "      <td>False</td>\n",
       "      <td>False</td>\n",
       "      <td>False</td>\n",
       "      <td>False</td>\n",
       "      <td>False</td>\n",
       "      <td>False</td>\n",
       "    </tr>\n",
       "    <tr>\n",
       "      <th>1</th>\n",
       "      <td>2398795</td>\n",
       "      <td>1</td>\n",
       "      <td>2</td>\n",
       "      <td>3</td>\n",
       "      <td>7</td>\n",
       "      <td>15.0</td>\n",
       "      <td>0</td>\n",
       "      <td>196</td>\n",
       "      <td>1</td>\n",
       "      <td>1</td>\n",
       "      <td>...</td>\n",
       "      <td>Lower-Middle Income</td>\n",
       "      <td>False</td>\n",
       "      <td>False</td>\n",
       "      <td>False</td>\n",
       "      <td>False</td>\n",
       "      <td>False</td>\n",
       "      <td>False</td>\n",
       "      <td>False</td>\n",
       "      <td>False</td>\n",
       "      <td>False</td>\n",
       "    </tr>\n",
       "    <tr>\n",
       "      <th>2</th>\n",
       "      <td>473747</td>\n",
       "      <td>1</td>\n",
       "      <td>3</td>\n",
       "      <td>3</td>\n",
       "      <td>12</td>\n",
       "      <td>21.0</td>\n",
       "      <td>0</td>\n",
       "      <td>196</td>\n",
       "      <td>1</td>\n",
       "      <td>1</td>\n",
       "      <td>...</td>\n",
       "      <td>Lower-Middle Income</td>\n",
       "      <td>False</td>\n",
       "      <td>False</td>\n",
       "      <td>False</td>\n",
       "      <td>False</td>\n",
       "      <td>False</td>\n",
       "      <td>False</td>\n",
       "      <td>False</td>\n",
       "      <td>False</td>\n",
       "      <td>False</td>\n",
       "    </tr>\n",
       "    <tr>\n",
       "      <th>3</th>\n",
       "      <td>2254736</td>\n",
       "      <td>1</td>\n",
       "      <td>4</td>\n",
       "      <td>4</td>\n",
       "      <td>7</td>\n",
       "      <td>29.0</td>\n",
       "      <td>0</td>\n",
       "      <td>196</td>\n",
       "      <td>1</td>\n",
       "      <td>1</td>\n",
       "      <td>...</td>\n",
       "      <td>Lower-Middle Income</td>\n",
       "      <td>False</td>\n",
       "      <td>False</td>\n",
       "      <td>False</td>\n",
       "      <td>False</td>\n",
       "      <td>False</td>\n",
       "      <td>False</td>\n",
       "      <td>False</td>\n",
       "      <td>False</td>\n",
       "      <td>False</td>\n",
       "    </tr>\n",
       "    <tr>\n",
       "      <th>4</th>\n",
       "      <td>431534</td>\n",
       "      <td>1</td>\n",
       "      <td>5</td>\n",
       "      <td>4</td>\n",
       "      <td>15</td>\n",
       "      <td>28.0</td>\n",
       "      <td>0</td>\n",
       "      <td>196</td>\n",
       "      <td>1</td>\n",
       "      <td>1</td>\n",
       "      <td>...</td>\n",
       "      <td>Lower-Middle Income</td>\n",
       "      <td>False</td>\n",
       "      <td>False</td>\n",
       "      <td>False</td>\n",
       "      <td>False</td>\n",
       "      <td>False</td>\n",
       "      <td>False</td>\n",
       "      <td>False</td>\n",
       "      <td>False</td>\n",
       "      <td>False</td>\n",
       "    </tr>\n",
       "  </tbody>\n",
       "</table>\n",
       "<p>5 rows × 53 columns</p>\n",
       "</div>"
      ],
      "text/plain": [
       "   order_id  user_id  order_number  orders_day_of_week  order_hour_of_day  \\\n",
       "0   2539329        1             1                   2                  8   \n",
       "1   2398795        1             2                   3                  7   \n",
       "2    473747        1             3                   3                 12   \n",
       "3   2254736        1             4                   4                  7   \n",
       "4    431534        1             5                   4                 15   \n",
       "\n",
       "   days_since_prior_order  first_order  product_id  add_to_cart_order  \\\n",
       "0                     NaN            1         196                  1   \n",
       "1                    15.0            0         196                  1   \n",
       "2                    21.0            0         196                  1   \n",
       "3                    29.0            0         196                  1   \n",
       "4                    28.0            0         196                  1   \n",
       "\n",
       "   reordered  ...       income_profile  profile_family_shopper  \\\n",
       "0          0  ...  Lower-Middle Income                   False   \n",
       "1          1  ...  Lower-Middle Income                   False   \n",
       "2          1  ...  Lower-Middle Income                   False   \n",
       "3          1  ...  Lower-Middle Income                   False   \n",
       "4          1  ...  Lower-Middle Income                   False   \n",
       "\n",
       "   profile_pet_owner  profile_late_night_shopper profile_bulk_shopper  \\\n",
       "0              False                       False                False   \n",
       "1              False                       False                False   \n",
       "2              False                       False                False   \n",
       "3              False                       False                False   \n",
       "4              False                       False                False   \n",
       "\n",
       "  profile_weekend_shopper profile_health_enthusiast  \\\n",
       "0                   False                     False   \n",
       "1                   False                     False   \n",
       "2                   False                     False   \n",
       "3                   False                     False   \n",
       "4                   False                     False   \n",
       "\n",
       "  profile_convenience_shopper  profile_gourmet_foodie profile_single_adult  \n",
       "0                       False                   False                False  \n",
       "1                       False                   False                False  \n",
       "2                       False                   False                False  \n",
       "3                       False                   False                False  \n",
       "4                       False                   False                False  \n",
       "\n",
       "[5 rows x 53 columns]"
      ]
     },
     "execution_count": 67,
     "metadata": {},
     "output_type": "execute_result"
    }
   ],
   "source": [
    "df_2.head(5)"
   ]
  },
  {
   "cell_type": "markdown",
   "id": "d56f39fd",
   "metadata": {},
   "source": [
    "### EXPORT THE DATAFRAMES"
   ]
  },
  {
   "cell_type": "code",
   "execution_count": 68,
   "id": "af88b121",
   "metadata": {},
   "outputs": [
    {
     "data": {
      "text/plain": [
       "(32404859, 53)"
      ]
     },
     "execution_count": 68,
     "metadata": {},
     "output_type": "execute_result"
    }
   ],
   "source": [
    "df_2.shape"
   ]
  },
  {
   "cell_type": "code",
   "execution_count": 69,
   "id": "4e6c1acf",
   "metadata": {},
   "outputs": [],
   "source": [
    "#Export\n",
    "\n",
    "df_2.to_pickle(os.path.join(path, '02 Data','Prepared Data', 'df_2_added_customer_profiles.pkl'))"
   ]
  },
  {
   "cell_type": "code",
   "execution_count": null,
   "id": "8168b694",
   "metadata": {},
   "outputs": [],
   "source": []
  }
 ],
 "metadata": {
  "kernelspec": {
   "display_name": "Python 3 (ipykernel)",
   "language": "python",
   "name": "python3"
  },
  "language_info": {
   "codemirror_mode": {
    "name": "ipython",
    "version": 3
   },
   "file_extension": ".py",
   "mimetype": "text/x-python",
   "name": "python",
   "nbconvert_exporter": "python",
   "pygments_lexer": "ipython3",
   "version": "3.11.4"
  }
 },
 "nbformat": 4,
 "nbformat_minor": 5
}
