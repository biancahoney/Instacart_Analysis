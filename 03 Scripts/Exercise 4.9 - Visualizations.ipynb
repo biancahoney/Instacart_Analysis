{
 "cells": [
  {
   "cell_type": "markdown",
   "id": "77c541e7",
   "metadata": {},
   "source": [
    "# Contents: \n",
    "\n",
    "1.  Importing libraries and data\n",
    "2.  Data exploration\n",
    "3.  Charts\\\n",
    "  a. Bar chart - days of week \\\n",
    "  b. Histogram - Hour of day \\\n",
    "  c. Barh - Customer loyalty distribution\n",
    " \n",
    "4. Sampling using seed - Difference in expenditure \n",
    "5. Customer Exploration\n",
    "6.  Export"
   ]
  },
  {
   "cell_type": "markdown",
   "id": "9ffb468e",
   "metadata": {},
   "source": [
    " ### 1. Importing libraries and data"
   ]
  },
  {
   "cell_type": "code",
   "execution_count": 1,
   "id": "bf86e636",
   "metadata": {},
   "outputs": [],
   "source": [
    "import pandas as pd\n",
    "import numpy as np\n",
    "import os\n",
    "import matplotlib.pyplot as plt\n",
    "import seaborn as sns\n",
    "import scipy"
   ]
  },
  {
   "cell_type": "code",
   "execution_count": 2,
   "id": "0a1e1e50",
   "metadata": {},
   "outputs": [],
   "source": [
    "path = r'/Users/biancaskyehoney/Documents/Instacart Basket Analysis '"
   ]
  },
  {
   "cell_type": "code",
   "execution_count": 3,
   "id": "b9d47fd4",
   "metadata": {},
   "outputs": [],
   "source": [
    "# Specify the correct file path and name\n",
    "pickle_file_path = os.path.join(path, '02 Data', 'Prepared Data', 'ords_prods_cust_merged.pkl')\n",
    "\n",
    "# Read the Pickle file using pd.read_pickle()\n",
    "df_ords_prods_cust = pd.read_pickle(pickle_file_path)"
   ]
  },
  {
   "cell_type": "markdown",
   "id": "991b8d7d",
   "metadata": {},
   "source": [
    "### 2. Data exploration"
   ]
  },
  {
   "cell_type": "code",
   "execution_count": 4,
   "id": "3bbd8981",
   "metadata": {},
   "outputs": [
    {
     "data": {
      "text/plain": [
       "(32404859, 37)"
      ]
     },
     "execution_count": 4,
     "metadata": {},
     "output_type": "execute_result"
    }
   ],
   "source": [
    "df_ords_prods_cust.shape"
   ]
  },
  {
   "cell_type": "code",
   "execution_count": 5,
   "id": "797b490b",
   "metadata": {},
   "outputs": [
    {
     "data": {
      "text/html": [
       "<div>\n",
       "<style scoped>\n",
       "    .dataframe tbody tr th:only-of-type {\n",
       "        vertical-align: middle;\n",
       "    }\n",
       "\n",
       "    .dataframe tbody tr th {\n",
       "        vertical-align: top;\n",
       "    }\n",
       "\n",
       "    .dataframe thead th {\n",
       "        text-align: right;\n",
       "    }\n",
       "</style>\n",
       "<table border=\"1\" class=\"dataframe\">\n",
       "  <thead>\n",
       "    <tr style=\"text-align: right;\">\n",
       "      <th></th>\n",
       "      <th>order_id</th>\n",
       "      <th>user_id</th>\n",
       "      <th>order_number</th>\n",
       "      <th>orders_day_of_week</th>\n",
       "      <th>order_hour_of_day</th>\n",
       "      <th>days_since_prior_order</th>\n",
       "      <th>first_order</th>\n",
       "      <th>product_id</th>\n",
       "      <th>add_to_cart_order</th>\n",
       "      <th>reordered</th>\n",
       "      <th>...</th>\n",
       "      <th>frequency_flag</th>\n",
       "      <th>first_name</th>\n",
       "      <th>surname</th>\n",
       "      <th>gender</th>\n",
       "      <th>state</th>\n",
       "      <th>age</th>\n",
       "      <th>date_joined</th>\n",
       "      <th>n_dependants</th>\n",
       "      <th>fam_status</th>\n",
       "      <th>income</th>\n",
       "    </tr>\n",
       "  </thead>\n",
       "  <tbody>\n",
       "    <tr>\n",
       "      <th>0</th>\n",
       "      <td>2539329</td>\n",
       "      <td>1</td>\n",
       "      <td>1</td>\n",
       "      <td>2</td>\n",
       "      <td>8</td>\n",
       "      <td>NaN</td>\n",
       "      <td>1</td>\n",
       "      <td>196</td>\n",
       "      <td>1</td>\n",
       "      <td>0</td>\n",
       "      <td>...</td>\n",
       "      <td>Non-frequent customer</td>\n",
       "      <td>Linda</td>\n",
       "      <td>Nguyen</td>\n",
       "      <td>Female</td>\n",
       "      <td>Alabama</td>\n",
       "      <td>31</td>\n",
       "      <td>2/17/2019</td>\n",
       "      <td>3</td>\n",
       "      <td>married</td>\n",
       "      <td>40423</td>\n",
       "    </tr>\n",
       "    <tr>\n",
       "      <th>1</th>\n",
       "      <td>2398795</td>\n",
       "      <td>1</td>\n",
       "      <td>2</td>\n",
       "      <td>3</td>\n",
       "      <td>7</td>\n",
       "      <td>15.0</td>\n",
       "      <td>0</td>\n",
       "      <td>196</td>\n",
       "      <td>1</td>\n",
       "      <td>1</td>\n",
       "      <td>...</td>\n",
       "      <td>Non-frequent customer</td>\n",
       "      <td>Linda</td>\n",
       "      <td>Nguyen</td>\n",
       "      <td>Female</td>\n",
       "      <td>Alabama</td>\n",
       "      <td>31</td>\n",
       "      <td>2/17/2019</td>\n",
       "      <td>3</td>\n",
       "      <td>married</td>\n",
       "      <td>40423</td>\n",
       "    </tr>\n",
       "    <tr>\n",
       "      <th>2</th>\n",
       "      <td>473747</td>\n",
       "      <td>1</td>\n",
       "      <td>3</td>\n",
       "      <td>3</td>\n",
       "      <td>12</td>\n",
       "      <td>21.0</td>\n",
       "      <td>0</td>\n",
       "      <td>196</td>\n",
       "      <td>1</td>\n",
       "      <td>1</td>\n",
       "      <td>...</td>\n",
       "      <td>Non-frequent customer</td>\n",
       "      <td>Linda</td>\n",
       "      <td>Nguyen</td>\n",
       "      <td>Female</td>\n",
       "      <td>Alabama</td>\n",
       "      <td>31</td>\n",
       "      <td>2/17/2019</td>\n",
       "      <td>3</td>\n",
       "      <td>married</td>\n",
       "      <td>40423</td>\n",
       "    </tr>\n",
       "    <tr>\n",
       "      <th>3</th>\n",
       "      <td>2254736</td>\n",
       "      <td>1</td>\n",
       "      <td>4</td>\n",
       "      <td>4</td>\n",
       "      <td>7</td>\n",
       "      <td>29.0</td>\n",
       "      <td>0</td>\n",
       "      <td>196</td>\n",
       "      <td>1</td>\n",
       "      <td>1</td>\n",
       "      <td>...</td>\n",
       "      <td>Non-frequent customer</td>\n",
       "      <td>Linda</td>\n",
       "      <td>Nguyen</td>\n",
       "      <td>Female</td>\n",
       "      <td>Alabama</td>\n",
       "      <td>31</td>\n",
       "      <td>2/17/2019</td>\n",
       "      <td>3</td>\n",
       "      <td>married</td>\n",
       "      <td>40423</td>\n",
       "    </tr>\n",
       "    <tr>\n",
       "      <th>4</th>\n",
       "      <td>431534</td>\n",
       "      <td>1</td>\n",
       "      <td>5</td>\n",
       "      <td>4</td>\n",
       "      <td>15</td>\n",
       "      <td>28.0</td>\n",
       "      <td>0</td>\n",
       "      <td>196</td>\n",
       "      <td>1</td>\n",
       "      <td>1</td>\n",
       "      <td>...</td>\n",
       "      <td>Non-frequent customer</td>\n",
       "      <td>Linda</td>\n",
       "      <td>Nguyen</td>\n",
       "      <td>Female</td>\n",
       "      <td>Alabama</td>\n",
       "      <td>31</td>\n",
       "      <td>2/17/2019</td>\n",
       "      <td>3</td>\n",
       "      <td>married</td>\n",
       "      <td>40423</td>\n",
       "    </tr>\n",
       "  </tbody>\n",
       "</table>\n",
       "<p>5 rows × 37 columns</p>\n",
       "</div>"
      ],
      "text/plain": [
       "   order_id  user_id  order_number  orders_day_of_week  order_hour_of_day  \\\n",
       "0   2539329        1             1                   2                  8   \n",
       "1   2398795        1             2                   3                  7   \n",
       "2    473747        1             3                   3                 12   \n",
       "3   2254736        1             4                   4                  7   \n",
       "4    431534        1             5                   4                 15   \n",
       "\n",
       "   days_since_prior_order  first_order  product_id  add_to_cart_order  \\\n",
       "0                     NaN            1         196                  1   \n",
       "1                    15.0            0         196                  1   \n",
       "2                    21.0            0         196                  1   \n",
       "3                    29.0            0         196                  1   \n",
       "4                    28.0            0         196                  1   \n",
       "\n",
       "   reordered  ...         frequency_flag  first_name  surname  gender  \\\n",
       "0          0  ...  Non-frequent customer       Linda   Nguyen  Female   \n",
       "1          1  ...  Non-frequent customer       Linda   Nguyen  Female   \n",
       "2          1  ...  Non-frequent customer       Linda   Nguyen  Female   \n",
       "3          1  ...  Non-frequent customer       Linda   Nguyen  Female   \n",
       "4          1  ...  Non-frequent customer       Linda   Nguyen  Female   \n",
       "\n",
       "     state age date_joined n_dependants  fam_status income  \n",
       "0  Alabama  31   2/17/2019            3     married  40423  \n",
       "1  Alabama  31   2/17/2019            3     married  40423  \n",
       "2  Alabama  31   2/17/2019            3     married  40423  \n",
       "3  Alabama  31   2/17/2019            3     married  40423  \n",
       "4  Alabama  31   2/17/2019            3     married  40423  \n",
       "\n",
       "[5 rows x 37 columns]"
      ]
     },
     "execution_count": 5,
     "metadata": {},
     "output_type": "execute_result"
    }
   ],
   "source": [
    "df_ords_prods_cust.head(5)"
   ]
  },
  {
   "cell_type": "markdown",
   "id": "43d60d8d",
   "metadata": {},
   "source": []
  },
  {
   "cell_type": "code",
   "execution_count": 6,
   "id": "264db17b",
   "metadata": {},
   "outputs": [
    {
     "data": {
      "text/plain": [
       "Text(0, 0.5, 'Number of Orders')"
      ]
     },
     "execution_count": 6,
     "metadata": {},
     "output_type": "execute_result"
    },
    {
     "data": {
      "image/png": "[encoded data removed]",
      "text/plain": [
       "<Figure size 640x480 with 1 Axes>"
      ]
     },
     "metadata": {},
     "output_type": "display_data"
    }
   ],
   "source": [
    "# Create a bar chart \n",
    "\n",
    "orders_day_of_week_bar = df_ords_prods_cust['orders_day_of_week'].value_counts().plot.bar()\n",
    "plt.xlabel(\"Day of the Week\")\n",
    "plt.ylabel(\"Number of Orders\")"
   ]
  },
  {
   "cell_type": "code",
   "execution_count": 7,
   "id": "d02bcb2b",
   "metadata": {},
   "outputs": [],
   "source": [
    "#export the visualization \n",
    "orders_day_of_week_bar.figure.savefig(os.path.join(path, '04 Analysis','Visualisations', 'orders_day_of_week_bar.png'))"
   ]
  },
  {
   "cell_type": "code",
   "execution_count": 8,
   "id": "c162a170",
   "metadata": {},
   "outputs": [
    {
     "data": {
      "text/plain": [
       "Text(0.5, 0, 'Order Hour Of Day')"
      ]
     },
     "execution_count": 8,
     "metadata": {},
     "output_type": "execute_result"
    },
    {
     "data": {
      "image/png": "[encoded data removed]",
      "text/plain": [
       "<Figure size 640x480 with 1 Axes>"
      ]
     },
     "metadata": {},
     "output_type": "display_data"
    }
   ],
   "source": [
    "# Create a Histogram \n",
    "\n",
    "\n",
    "hist = df_ords_prods_cust['order_hour_of_day'].plot.hist(bins = 24)\n",
    "plt.xlabel(\"Order Hour Of Day\")"
   ]
  },
  {
   "cell_type": "markdown",
   "id": "6b7377e4",
   "metadata": {},
   "source": [
    "# \n",
    "Above we can see that the popular order hours of the day - 9am being the highest, with a large drop down from 4 pm onwards."
   ]
  },
  {
   "cell_type": "markdown",
   "id": "85678d85",
   "metadata": {},
   "source": [
    "# Distribution across customer loyalty "
   ]
  },
  {
   "cell_type": "code",
   "execution_count": 9,
   "id": "bccd52c7",
   "metadata": {},
   "outputs": [],
   "source": [
    "# Group by loyalty_flag and count the number of users in each category\n",
    "\n",
    "loyalty_counts = df_ords_prods_cust['frequency_flag'].value_counts()"
   ]
  },
  {
   "cell_type": "code",
   "execution_count": 10,
   "id": "607565d9",
   "metadata": {},
   "outputs": [
    {
     "data": {
      "text/plain": [
       "Text(0.5, 1.0, 'Distribution of Orders by Loyalty')"
      ]
     },
     "execution_count": 10,
     "metadata": {},
     "output_type": "execute_result"
    },
    {
     "data": {
      "image/png": "[encoded data removed]",
      "text/plain": [
       "<Figure size 640x480 with 1 Axes>"
      ]
     },
     "metadata": {},
     "output_type": "display_data"
    }
   ],
   "source": [
    "# Create a bar chart\n",
    "bar = loyalty_counts.plot(kind='barh')\n",
    "\n",
    "# Add labels and a title\n",
    "plt.xlabel('Loyalty Flag')\n",
    "plt.ylabel('Number of Users')\n",
    "plt.title('Distribution of Orders by Loyalty')\n"
   ]
  },
  {
   "cell_type": "code",
   "execution_count": 11,
   "id": "0325f0d8",
   "metadata": {},
   "outputs": [],
   "source": [
    "#export the visualization \n",
    "bar.figure.savefig(os.path.join(path, '04 Analysis','Visualisations', 'loyalty_counts.png'))"
   ]
  },
  {
   "cell_type": "markdown",
   "id": "71af7a52",
   "metadata": {},
   "source": [
    "# Check differences in expenditure"
   ]
  },
  {
   "cell_type": "code",
   "execution_count": 12,
   "id": "2acd640c",
   "metadata": {},
   "outputs": [],
   "source": [
    "# Create Sampling data\n",
    "\n",
    "np.random.seed(4)\n",
    "dev = np.random.rand(len(df_ords_prods_cust)) <= 0.7"
   ]
  },
  {
   "cell_type": "code",
   "execution_count": 13,
   "id": "76129229",
   "metadata": {},
   "outputs": [
    {
     "data": {
      "text/plain": [
       "array([False,  True, False, ...,  True,  True,  True])"
      ]
     },
     "execution_count": 13,
     "metadata": {},
     "output_type": "execute_result"
    }
   ],
   "source": [
    "dev"
   ]
  },
  {
   "cell_type": "code",
   "execution_count": 14,
   "id": "40c42175",
   "metadata": {},
   "outputs": [
    {
     "data": {
      "text/plain": [
       "array([0.93546686, 0.06557465, 0.85698584, 0.24456371, 0.22683171,\n",
       "       0.17068366, 0.27008946, 0.52534234, 0.83151571, 0.78153402])"
      ]
     },
     "execution_count": 14,
     "metadata": {},
     "output_type": "execute_result"
    }
   ],
   "source": [
    "np.random.rand(10)"
   ]
  },
  {
   "cell_type": "code",
   "execution_count": null,
   "id": "fed85054",
   "metadata": {},
   "outputs": [],
   "source": [
    "# Use list to split dataframe into 2 samples\n",
    "\n",
    "big = df_ords_prods_cust[dev]\n",
    "small = df_ords_prods_cust[~dev]"
   ]
  },
  {
   "cell_type": "code",
   "execution_count": null,
   "id": "257417fb",
   "metadata": {},
   "outputs": [],
   "source": [
    "# test\n",
    "\n",
    "len(df_ords_prods_cust)"
   ]
  },
  {
   "cell_type": "code",
   "execution_count": null,
   "id": "5efa6462",
   "metadata": {},
   "outputs": [],
   "source": [
    "# test sample dfs \n",
    "\n",
    "len(big) + len(small)"
   ]
  },
  {
   "cell_type": "code",
   "execution_count": null,
   "id": "d7cc36b3",
   "metadata": {},
   "outputs": [],
   "source": [
    "#Create a subset only containing columns 'prices' and 'order hour of day'\n",
    "df = small[['prices', 'order_hour_of_day']]"
   ]
  },
  {
   "cell_type": "code",
   "execution_count": null,
   "id": "6126fe1f",
   "metadata": {},
   "outputs": [],
   "source": [
    "#create a line graph\n",
    "line_price_hour = sns.lineplot(data = df, x = 'order_hour_of_day',y = 'prices')"
   ]
  },
  {
   "cell_type": "code",
   "execution_count": null,
   "id": "b9dedc55",
   "metadata": {},
   "outputs": [],
   "source": [
    "#export the visualization \n",
    "line_price_hour.figure.savefig(os.path.join(path, '04 Analysis','Visualisations', 'line_price_hour.png'))"
   ]
  },
  {
   "cell_type": "markdown",
   "id": "7ac0ef04",
   "metadata": {},
   "source": [
    "# Customer exploration"
   ]
  },
  {
   "cell_type": "code",
   "execution_count": null,
   "id": "f6347b88",
   "metadata": {},
   "outputs": [],
   "source": [
    "#create bar chart to find the distribution of marital status\n",
    "\n",
    "marital_status = df_ords_prods_cust['fam_status'].value_counts().plot.bar()\n",
    "plt.xlabel(\"Number of Users\")\n",
    "plt.ylabel(\"Loyalty\")  \n",
    "plt.title(\"Number of Users by Marital Status\")"
   ]
  },
  {
   "cell_type": "code",
   "execution_count": null,
   "id": "bafda15e",
   "metadata": {},
   "outputs": [],
   "source": [
    "#export the vis\n",
    "marital_status.figure.savefig(os.path.join(path, '04 Analysis','Visualisations', 'marital_status.png'), bbox_inches='tight')"
   ]
  },
  {
   "cell_type": "code",
   "execution_count": null,
   "id": "ac34df68",
   "metadata": {},
   "outputs": [],
   "source": [
    "# Create a subset for n_dependants & Age\n",
    "\n",
    "df = small[['n_dependants', 'age']]"
   ]
  },
  {
   "cell_type": "code",
   "execution_count": null,
   "id": "47024fcc",
   "metadata": {},
   "outputs": [],
   "source": [
    "line_dependants_age = sns.lineplot(data = df, x = 'age',y = 'n_dependants')"
   ]
  },
  {
   "cell_type": "code",
   "execution_count": null,
   "id": "d47382e5",
   "metadata": {},
   "outputs": [],
   "source": [
    "#export the vis\n",
    "line_dependants_age.figure.savefig(os.path.join(path, '04 Analysis','Visualisations', 'line_dependants_age.png'), bbox_inches='tight')"
   ]
  },
  {
   "cell_type": "markdown",
   "id": "b9e78909",
   "metadata": {},
   "source": [
    "#\n",
    "\n",
    "No real correlation between number of dependants and age"
   ]
  },
  {
   "cell_type": "code",
   "execution_count": null,
   "id": "5e987bf8",
   "metadata": {},
   "outputs": [],
   "source": [
    "# Scatterplot of age comparison to income\n",
    "\n",
    "\n",
    "age_income_scatterplot = sns.scatterplot(x = 'age', y = 'income',data = df_ords_prods_cust)"
   ]
  },
  {
   "cell_type": "markdown",
   "id": "ec60a1dd",
   "metadata": {},
   "source": [
    "#\n",
    "\n",
    "From age 40 onwards there is a real jump in terms of the income ceiling experienced in years prior (400000)"
   ]
  },
  {
   "cell_type": "code",
   "execution_count": null,
   "id": "a30f2345",
   "metadata": {},
   "outputs": [],
   "source": [
    "#export the vis\n",
    "age_income_scatterplot.figure.savefig(os.path.join(path, '04 Analysis','Visualisations', 'age_income_scatterplot.png'))"
   ]
  },
  {
   "cell_type": "code",
   "execution_count": null,
   "id": "3fe7196d",
   "metadata": {},
   "outputs": [],
   "source": []
  }
 ],
 "metadata": {
  "kernelspec": {
   "display_name": "Python 3 (ipykernel)",
   "language": "python",
   "name": "python3"
  },
  "language_info": {
   "codemirror_mode": {
    "name": "ipython",
    "version": 3
   },
   "file_extension": ".py",
   "mimetype": "text/x-python",
   "name": "python",
   "nbconvert_exporter": "python",
   "pygments_lexer": "ipython3",
   "version": "3.11.4"
  }
 },
 "nbformat": 4,
 "nbformat_minor": 5
}
